{
 "cells": [
  {
   "cell_type": "code",
   "execution_count": 68,
   "id": "0eaf69ff",
   "metadata": {},
   "outputs": [],
   "source": [
    "#modules\n",
    "import os #Files Systems naviguation\n",
    "import glob #path exploration\n",
    "import shutil #copy, move, rename, remove files\n",
    "import zipfile #zip file"
   ]
  },
  {
   "cell_type": "markdown",
   "id": "9a2f09b8",
   "metadata": {},
   "source": [
    "###Environnement###"
   ]
  },
  {
   "cell_type": "code",
   "execution_count": 8,
   "id": "a5a91e7d",
   "metadata": {},
   "outputs": [
    {
     "data": {
      "text/plain": [
       "558"
      ]
     },
     "execution_count": 8,
     "metadata": {},
     "output_type": "execute_result"
    }
   ],
   "source": [
    "#environment\n",
    "#get current repo\n",
    "os.getcwd()\n",
    "\n",
    "#change directory\n",
    "#os.chdir('D:\\\\project\\\\algorithm\\\\ph202209B2LpytA')"
   ]
  },
  {
   "cell_type": "code",
   "execution_count": null,
   "id": "b2f701d3",
   "metadata": {},
   "outputs": [],
   "source": [
    "#file size\n",
    "os.path.getsize('D:\\\\project\\\\algorithm\\\\ph202209B2LpytA\\\\impulse.txt')"
   ]
  },
  {
   "cell_type": "code",
   "execution_count": 16,
   "id": "86389a72",
   "metadata": {},
   "outputs": [
    {
     "data": {
      "text/plain": [
       "('D:\\\\project\\\\algorithm\\\\ph202209B2LpytA', 'impulse.txt')"
      ]
     },
     "execution_count": 16,
     "metadata": {},
     "output_type": "execute_result"
    }
   ],
   "source": [
    "#variable\n",
    "myPath = 'D:\\\\project\\\\algorithm\\\\ph202209B2LpytA\\\\impulse.txt'\n",
    "\n",
    "#get path, get file name\n",
    "os.path.dirname(myPath), os.path.basename(myPath)"
   ]
  },
  {
   "cell_type": "code",
   "execution_count": 17,
   "id": "f9f50eb4",
   "metadata": {},
   "outputs": [
    {
     "data": {
      "text/plain": [
       "('D:\\\\project\\\\algorithm\\\\ph202209B2LpytA', 'impulse.txt')"
      ]
     },
     "execution_count": 17,
     "metadata": {},
     "output_type": "execute_result"
    }
   ],
   "source": [
    "#get path, get file name v2\n",
    "os.path.split(myPath)\n"
   ]
  },
  {
   "cell_type": "code",
   "execution_count": 18,
   "id": "51a16ec2",
   "metadata": {},
   "outputs": [
    {
     "data": {
      "text/plain": [
       "['.git', '.ipynb_checkpoints', 'impulse.txt', 'README.md', 'Untitled.ipynb']"
      ]
     },
     "execution_count": 18,
     "metadata": {},
     "output_type": "execute_result"
    }
   ],
   "source": [
    "#list file in repo\n",
    "os.listdir(os.path.dirname(myPath))"
   ]
  },
  {
   "cell_type": "code",
   "execution_count": 19,
   "id": "755b1c92",
   "metadata": {},
   "outputs": [
    {
     "data": {
      "text/plain": [
       "True"
      ]
     },
     "execution_count": 19,
     "metadata": {},
     "output_type": "execute_result"
    }
   ],
   "source": [
    "#existing file or repo (true fasle)\n",
    "os.path.exists(myPath)"
   ]
  },
  {
   "cell_type": "code",
   "execution_count": 20,
   "id": "f99f0bba",
   "metadata": {},
   "outputs": [
    {
     "data": {
      "text/plain": [
       "True"
      ]
     },
     "execution_count": 20,
     "metadata": {},
     "output_type": "execute_result"
    }
   ],
   "source": [
    "#is a file (true false)\n",
    "os.path.isfile(myPath)"
   ]
  },
  {
   "cell_type": "code",
   "execution_count": 21,
   "id": "558883a1",
   "metadata": {},
   "outputs": [
    {
     "data": {
      "text/plain": [
       "\"ph202209B2LpytA\\nAutomation task\\nintro to python and automation\\nfrom linkedInLearning course 'python-l-automatisation-des-taches'\\n\\nAdvantages of automation are already known through the industrial methods course. These advantages are accurate in many field from data analyse to operational tasks.\\n\\nThree point concerning the task to automise : 1what is the task frequence 2realisation costs 3error probability on the task\\n-> invoice management\\n-> excel manipulation\\n-> order and storage management\\n\\ntehnical language chosen: Python in anaconda environnement\\n\\n\""
      ]
     },
     "execution_count": 21,
     "metadata": {},
     "output_type": "execute_result"
    }
   ],
   "source": [
    "#reading file\n",
    "myText = open(myPath)\n",
    "myContent = myText.read()\n",
    "\n",
    "#display result\n",
    "myContent"
   ]
  },
  {
   "cell_type": "code",
   "execution_count": 23,
   "id": "099e1fa1",
   "metadata": {},
   "outputs": [
    {
     "data": {
      "text/plain": [
       "<function TextIOWrapper.close()>"
      ]
     },
     "execution_count": 23,
     "metadata": {},
     "output_type": "execute_result"
    }
   ],
   "source": [
    "#don t forget to close file\n",
    "myText.close"
   ]
  },
  {
   "cell_type": "markdown",
   "id": "9a456332",
   "metadata": {},
   "source": [
    "###Glob Module###"
   ]
  },
  {
   "cell_type": "markdown",
   "id": "2dda257f",
   "metadata": {},
   "source": [
    "reading mode :\n",
    "r reading\n",
    "- w writing\n",
    "- a append (end of file)\n",
    "- b binary\n",
    "- t text mode\n",
    "- x creating a new file in w mode"
   ]
  },
  {
   "cell_type": "code",
   "execution_count": 26,
   "id": "55d8f4ec",
   "metadata": {},
   "outputs": [
    {
     "data": {
      "text/plain": [
       "['D:\\\\\\\\project\\\\\\\\algorithm\\\\\\\\ph202209B2LpytA\\\\impulse.txt']"
      ]
     },
     "execution_count": 26,
     "metadata": {},
     "output_type": "execute_result"
    }
   ],
   "source": [
    "#table of all files of a targeted extension in the repo\n",
    "extensionTarget = r'D:\\\\project\\\\algorithm\\\\ph202209B2LpytA\\\\*.txt'\n",
    "glob.glob(extensionTarget)"
   ]
  },
  {
   "cell_type": "code",
   "execution_count": 16,
   "id": "b70035a9",
   "metadata": {},
   "outputs": [],
   "source": [
    "#create and write in a file\n",
    "topicFile = open('topic_file.txt', 'w')\n",
    "topicFile.write('Automation with Python')\n",
    "topicFile.close()"
   ]
  },
  {
   "cell_type": "code",
   "execution_count": 17,
   "id": "5f7a6e97",
   "metadata": {},
   "outputs": [],
   "source": [
    "#add text in existing file\n",
    "topicFile = open('topic_file.txt','a')\n",
    "topicFile.write('\\nnewcontent added with append mode')\n",
    "topicFile.close()"
   ]
  },
  {
   "cell_type": "code",
   "execution_count": 18,
   "id": "74e8999f",
   "metadata": {},
   "outputs": [
    {
     "data": {
      "text/plain": [
       "['Automation with Python\\n', 'newcontent added with append mode']"
      ]
     },
     "execution_count": 18,
     "metadata": {},
     "output_type": "execute_result"
    }
   ],
   "source": [
    "#display file in line\n",
    "topicFile = open('topic_file.txt')\n",
    "myContent = topicFile.readlines()\n",
    "topicFile.close()\n",
    "\n",
    "myContent"
   ]
  },
  {
   "cell_type": "code",
   "execution_count": 19,
   "id": "28a0cfe1",
   "metadata": {},
   "outputs": [],
   "source": [
    "#variante avec with\n",
    "with open('topic_file.txt', 'a') as topicFile:\n",
    "    topicFile.write('\\nnew content')\n",
    "    topicFile.close()"
   ]
  },
  {
   "cell_type": "markdown",
   "id": "7e6374f6",
   "metadata": {},
   "source": [
    "###application###"
   ]
  },
  {
   "cell_type": "code",
   "execution_count": 30,
   "id": "78f3e30f",
   "metadata": {},
   "outputs": [
    {
     "data": {
      "text/plain": [
       "'D:\\\\project\\\\algorithm\\\\ph202209B2LpytA\\\\source_files'"
      ]
     },
     "execution_count": 30,
     "metadata": {},
     "output_type": "execute_result"
    }
   ],
   "source": [
    "#set environment\n",
    "myPath = 'D:\\\\project\\\\algorithm\\\\ph202209B2LpytA\\\\source_files\\\\foo.txt'\n",
    "myPath = os.path.dirname(myPath)\n",
    "\n",
    "os.chdir(myPath)\n",
    "os.getcwd()"
   ]
  },
  {
   "cell_type": "code",
   "execution_count": 40,
   "id": "67448209",
   "metadata": {},
   "outputs": [
    {
     "name": "stdout",
     "output_type": "stream",
     "text": [
      "Ira\n",
      "\n",
      "Diana\n",
      "\n",
      "Val\n",
      "\n",
      "Omar\n"
     ]
    }
   ],
   "source": [
    "#diplay liste.txt file content\n",
    "studentList = open('liste.txt', 'r')\n",
    "myContent = studentList.readlines()\n",
    "studentList.close()\n",
    "\n",
    "for name in myContent:\n",
    "    print(name)"
   ]
  },
  {
   "cell_type": "code",
   "execution_count": 41,
   "id": "668aa77b",
   "metadata": {},
   "outputs": [],
   "source": [
    "#add an id for each student in studentList\n",
    "studentId = open('listId.txt', 'x')\n",
    "\n",
    "i = 1\n",
    "for name in myContent:\n",
    "    studentId.write(\"id\" + str(i) + \" \" + name + \"\\n\")\n",
    "    i += 1"
   ]
  },
  {
   "cell_type": "code",
   "execution_count": 42,
   "id": "9201a430",
   "metadata": {},
   "outputs": [
    {
     "name": "stdout",
     "output_type": "stream",
     "text": [
      "id1 Ira\n",
      "\n",
      "\n",
      "\n",
      "id2 Diana\n",
      "\n",
      "\n",
      "\n",
      "id3 Val\n",
      "\n",
      "\n",
      "\n",
      "id4 Omar\n",
      "\n"
     ]
    }
   ],
   "source": [
    "#diplay listId.txt file content\n",
    "studentId = open('listId.txt', 'r')\n",
    "myContent = studentId.readlines()\n",
    "studentId.close()\n",
    "\n",
    "for myline in myContent:\n",
    "    print(myline)"
   ]
  },
  {
   "cell_type": "code",
   "execution_count": 11,
   "id": "0cf96ce3",
   "metadata": {},
   "outputs": [
    {
     "name": "stdout",
     "output_type": "stream",
     "text": [
      "test maggle\n"
     ]
    }
   ],
   "source": [
    "#back to biz - remember\n",
    "testfile = open('testcrea.txt', 'x')\n",
    "testfile.write(\"test maggle\")\n",
    "\n",
    "testfile = open('testcrea.txt', 'r')\n",
    "testcontent = testfile.readlines()\n",
    "testfile.close()\n",
    "\n",
    "for mytest in testcontent:\n",
    "    print(mytest)"
   ]
  },
  {
   "cell_type": "code",
   "execution_count": 70,
   "id": "69c342a6",
   "metadata": {},
   "outputs": [],
   "source": [
    "toZipFile.close()"
   ]
  },
  {
   "cell_type": "code",
   "execution_count": 73,
   "id": "2098d2b5",
   "metadata": {},
   "outputs": [],
   "source": [
    "#file organisation\n",
    "myPath = 'D:\\\\project\\\\'\n",
    "myPath = os.path.dirname(myPath)\n",
    "\n",
    "os.chdir(myPath)\n",
    "#os.getcwd()\n",
    "\n",
    "copiedFile = myPath + '\\\\inProgress.png'\n",
    "#os.path.exists(copyFile)\n",
    "pathDest = myPath + '\\\\algorithm\\\\ph202209B2LpytA\\\\source_files\\\\'\n",
    "#v2 avec nom renomme\n",
    "#pathDest = myPath + '\\\\algorithm\\\\ph202209B2LpytA\\\\source_files\\\\geometry.png'\n",
    "\n",
    "#copy\n",
    "shutil.copy(copiedFile, pathDest)\n",
    "\n",
    "#move\n",
    "toMoveFile = myPath + '\\\\geometry.png'\n",
    "#shutil.move(toMoveFile, pathDest)\n",
    "\n",
    "#remove V1 no recovery possibility\n",
    "toRemoveFile = pathDest + 'geometry.png'\n",
    "#os.unlink(toRemoveFile)\n",
    "\n"
   ]
  },
  {
   "cell_type": "code",
   "execution_count": 72,
   "id": "a30c521b",
   "metadata": {},
   "outputs": [],
   "source": [
    "#remove V2 send to trashcan\n",
    "#zipped to reduce size\n",
    "myPath = 'D:\\\\project\\\\\\\\algorithm\\\\ph202209B2LpytA\\\\source_files\\\\'\n",
    "os.chdir(myPath)\n",
    "\n",
    "originFile = 'geometry.png'\n",
    "targetedFile = 'geometry.zip'\n",
    "\n",
    "toZipFile = zipfile.ZipFile(targetedFile, 'w')\n",
    "toZipFile.write(originFile, compress_type = zipfile.ZIP_DEFLATED)\n",
    "toZipFile.close() #zip created in current path"
   ]
  },
  {
   "cell_type": "code",
   "execution_count": 71,
   "id": "e4041225",
   "metadata": {},
   "outputs": [
    {
     "data": {
      "text/plain": [
       "['.ipynb_checkpoints',\n",
       " '._02_01_Lecture_fichier_txt.ipynb',\n",
       " '._02_02_Ecriture_fichier.ipynb',\n",
       " '._02_03_ManipulerFichiers.ipynb',\n",
       " '._03_01_Fichiers_word.ipynb',\n",
       " '._03_02_Fichiers_word_2.ipynb',\n",
       " '._03_03_Fichiers_PDF.ipynb',\n",
       " '._04_01_fichier_excel.ipynb',\n",
       " '._04_02_ModifierExcel.ipynb',\n",
       " '._04_03_auto_rapport.ipynb',\n",
       " '._05_01_Librairie_request.ipynb',\n",
       " '._05_02_BeautifulSoup.ipynb',\n",
       " '._05_03_selenium.ipynb',\n",
       " '._06_01_time_datetime.ipynb',\n",
       " '._06_02_multithreading.ipynb',\n",
       " '._06_03_PlanifierExécution.ipynb',\n",
       " '._automatisation.png',\n",
       " '._exemple.docx',\n",
       " '._exemple.pdf',\n",
       " '._exemple.xlsx',\n",
       " '._exemple1.xlsx',\n",
       " '._exemple_3.docx',\n",
       " '._liste.txt',\n",
       " '._listeId.txt',\n",
       " '._rapport.docx',\n",
       " '._texte_1.txt',\n",
       " '._texte_2.txt',\n",
       " '02_01_Lecture_fichier_txt.ipynb',\n",
       " '02_02_Ecriture_fichier.ipynb',\n",
       " '02_03_ManipulerFichiers.ipynb',\n",
       " '03_01_Fichiers_word.ipynb',\n",
       " '03_02_Fichiers_word_2.ipynb',\n",
       " '03_03_Fichiers_PDF.ipynb',\n",
       " '04_01_fichier_excel.ipynb',\n",
       " '04_02_ModifierExcel.ipynb',\n",
       " '04_03_auto_rapport.ipynb',\n",
       " '05_01_Librairie_request.ipynb',\n",
       " '05_02_BeautifulSoup.ipynb',\n",
       " '05_03_selenium.ipynb',\n",
       " '06_01_time_datetime.ipynb',\n",
       " '06_02_multithreading.ipynb',\n",
       " '06_03_PlanifierExécution.ipynb',\n",
       " 'automatisation.png',\n",
       " 'exemple.docx',\n",
       " 'exemple.pdf',\n",
       " 'exemple.xlsx',\n",
       " 'exemple1.xlsx',\n",
       " 'exemple_3.docx',\n",
       " 'geometry.png',\n",
       " 'inProgress.png',\n",
       " 'liste.txt',\n",
       " 'listeId.txt',\n",
       " 'listId.txt',\n",
       " 'rapport.docx',\n",
       " 'testcrea.txt',\n",
       " 'texte_1.txt',\n",
       " 'texte_2.txt',\n",
       " 'topic_file.txt']"
      ]
     },
     "execution_count": 71,
     "metadata": {},
     "output_type": "execute_result"
    }
   ],
   "source": [
    "#check des modifs\n",
    "myPath = 'D:\\\\project\\\\\\\\algorithm\\\\ph202209B2LpytA\\\\source_files\\\\'\n",
    "os.chdir(myPath)\n",
    "os.listdir()"
   ]
  },
  {
   "cell_type": "code",
   "execution_count": null,
   "id": "e2076c82",
   "metadata": {},
   "outputs": [],
   "source": []
  }
 ],
 "metadata": {
  "kernelspec": {
   "display_name": "Python 3 (ipykernel)",
   "language": "python",
   "name": "python3"
  },
  "language_info": {
   "codemirror_mode": {
    "name": "ipython",
    "version": 3
   },
   "file_extension": ".py",
   "mimetype": "text/x-python",
   "name": "python",
   "nbconvert_exporter": "python",
   "pygments_lexer": "ipython3",
   "version": "3.9.12"
  }
 },
 "nbformat": 4,
 "nbformat_minor": 5
}
