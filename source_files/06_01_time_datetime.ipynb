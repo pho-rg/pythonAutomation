{
 "cells": [
  {
   "cell_type": "code",
   "execution_count": 1,
   "id": "fc2dfb33",
   "metadata": {},
   "outputs": [],
   "source": [
    "import time"
   ]
  },
  {
   "cell_type": "code",
   "execution_count": 2,
   "id": "1a65b3f8",
   "metadata": {},
   "outputs": [
    {
     "data": {
      "text/plain": [
       "1647791143.3148916"
      ]
     },
     "execution_count": 2,
     "metadata": {},
     "output_type": "execute_result"
    }
   ],
   "source": [
    "time.time()"
   ]
  },
  {
   "cell_type": "code",
   "execution_count": 4,
   "id": "cf854d08",
   "metadata": {},
   "outputs": [
    {
     "name": "stdout",
     "output_type": "stream",
     "text": [
      "Maintenant\n",
      "Après 2 secondes\n"
     ]
    }
   ],
   "source": [
    "print(\"Maintenant\")\n",
    "time.sleep(2)\n",
    "print(\"Après 2 secondes\")"
   ]
  },
  {
   "cell_type": "code",
   "execution_count": 10,
   "id": "9d87a63a",
   "metadata": {},
   "outputs": [
    {
     "data": {
      "text/plain": [
       "'05:43:09 AM'"
      ]
     },
     "execution_count": 10,
     "metadata": {},
     "output_type": "execute_result"
    }
   ],
   "source": [
    "heureLoc = time.localtime()\n",
    "res = time.strftime(\"%I:%M:%S %p\", heureLoc)\n",
    "res"
   ]
  },
  {
   "cell_type": "code",
   "execution_count": 11,
   "id": "4a7c4dca",
   "metadata": {},
   "outputs": [
    {
     "name": "stdout",
     "output_type": "stream",
     "text": [
      "05:43:10 AM\n",
      "05:43:12 AM\n"
     ]
    }
   ],
   "source": [
    "print(time.strftime(\"%I:%M:%S %p\", time.localtime()))\n",
    "time.sleep(2)\n",
    "print(time.strftime(\"%I:%M:%S %p\", time.localtime()))"
   ]
  },
  {
   "cell_type": "code",
   "execution_count": 13,
   "id": "0e8b965b",
   "metadata": {},
   "outputs": [],
   "source": [
    "import datetime"
   ]
  },
  {
   "cell_type": "code",
   "execution_count": 14,
   "id": "88cdea7e",
   "metadata": {},
   "outputs": [],
   "source": [
    "date = datetime.datetime.now()"
   ]
  },
  {
   "cell_type": "code",
   "execution_count": 15,
   "id": "e9b7c00f",
   "metadata": {},
   "outputs": [
    {
     "data": {
      "text/plain": [
       "2022"
      ]
     },
     "execution_count": 15,
     "metadata": {},
     "output_type": "execute_result"
    }
   ],
   "source": [
    "date.year"
   ]
  },
  {
   "cell_type": "code",
   "execution_count": 16,
   "id": "36819970",
   "metadata": {},
   "outputs": [
    {
     "data": {
      "text/plain": [
       "9"
      ]
     },
     "execution_count": 16,
     "metadata": {},
     "output_type": "execute_result"
    }
   ],
   "source": [
    "date.day"
   ]
  },
  {
   "cell_type": "code",
   "execution_count": 17,
   "id": "336b03d3",
   "metadata": {},
   "outputs": [
    {
     "data": {
      "text/plain": [
       "5"
      ]
     },
     "execution_count": 17,
     "metadata": {},
     "output_type": "execute_result"
    }
   ],
   "source": [
    "date.hour"
   ]
  },
  {
   "cell_type": "code",
   "execution_count": 18,
   "id": "c8d1e64e",
   "metadata": {},
   "outputs": [
    {
     "data": {
      "text/plain": [
       "datetime.datetime(1970, 1, 12, 14, 46, 40)"
      ]
     },
     "execution_count": 18,
     "metadata": {},
     "output_type": "execute_result"
    }
   ],
   "source": [
    "datetime.datetime.fromtimestamp(1000000)"
   ]
  },
  {
   "cell_type": "code",
   "execution_count": 19,
   "id": "2ad47d2d",
   "metadata": {},
   "outputs": [
    {
     "data": {
      "text/plain": [
       "datetime.datetime(2022, 4, 9, 5, 43, 49, 667001)"
      ]
     },
     "execution_count": 19,
     "metadata": {},
     "output_type": "execute_result"
    }
   ],
   "source": [
    "datetime.datetime.fromtimestamp(time.time())"
   ]
  },
  {
   "cell_type": "code",
   "execution_count": 20,
   "id": "145740d3",
   "metadata": {},
   "outputs": [],
   "source": [
    "delta = datetime.timedelta(days=1, hours=1, minutes=10, seconds=10)"
   ]
  },
  {
   "cell_type": "code",
   "execution_count": 23,
   "id": "bc5c3989",
   "metadata": {},
   "outputs": [
    {
     "data": {
      "text/plain": [
       "(1, 4210)"
      ]
     },
     "execution_count": 23,
     "metadata": {},
     "output_type": "execute_result"
    }
   ],
   "source": [
    "delta.days, delta.seconds"
   ]
  },
  {
   "cell_type": "code",
   "execution_count": 24,
   "id": "825f47f3",
   "metadata": {},
   "outputs": [
    {
     "data": {
      "text/plain": [
       "90610.0"
      ]
     },
     "execution_count": 24,
     "metadata": {},
     "output_type": "execute_result"
    }
   ],
   "source": [
    "delta.total_seconds()"
   ]
  },
  {
   "cell_type": "code",
   "execution_count": 25,
   "id": "7e107198",
   "metadata": {},
   "outputs": [
    {
     "data": {
      "text/plain": [
       "'1 day, 1:10:10'"
      ]
     },
     "execution_count": 25,
     "metadata": {},
     "output_type": "execute_result"
    }
   ],
   "source": [
    "str(delta)"
   ]
  },
  {
   "cell_type": "code",
   "execution_count": 37,
   "id": "16530e4d",
   "metadata": {},
   "outputs": [
    {
     "name": "stdout",
     "output_type": "stream",
     "text": [
      "tik tok\n",
      "tik tok\n",
      "tik tok\n",
      "tik tok\n",
      "OK\n"
     ]
    }
   ],
   "source": [
    "date1 = datetime.datetime.now()\n",
    "while datetime.datetime.now() < (date1 + datetime.timedelta(seconds=4)):\n",
    "    time.sleep(1)\n",
    "    print(\"tik tok\")\n",
    "print (\"OK\")"
   ]
  },
  {
   "cell_type": "code",
   "execution_count": null,
   "id": "e58fc5af",
   "metadata": {},
   "outputs": [],
   "source": []
  }
 ],
 "metadata": {
  "kernelspec": {
   "display_name": "Python 3 (ipykernel)",
   "language": "python",
   "name": "python3"
  },
  "language_info": {
   "codemirror_mode": {
    "name": "ipython",
    "version": 3
   },
   "file_extension": ".py",
   "mimetype": "text/x-python",
   "name": "python",
   "nbconvert_exporter": "python",
   "pygments_lexer": "ipython3",
   "version": "3.9.7"
  }
 },
 "nbformat": 4,
 "nbformat_minor": 5
}
