{
 "cells": [
  {
   "cell_type": "code",
   "execution_count": 1,
   "id": "01bc8e19",
   "metadata": {},
   "outputs": [],
   "source": [
    "import docx"
   ]
  },
  {
   "cell_type": "code",
   "execution_count": 2,
   "id": "3ecc1a37",
   "metadata": {},
   "outputs": [],
   "source": [
    "doc = docx.Document() "
   ]
  },
  {
   "cell_type": "code",
   "execution_count": 3,
   "id": "7470b3c9",
   "metadata": {},
   "outputs": [
    {
     "data": {
      "text/plain": [
       "<docx.text.paragraph.Paragraph at 0x18ee1685550>"
      ]
     },
     "execution_count": 3,
     "metadata": {},
     "output_type": "execute_result"
    }
   ],
   "source": [
    "doc.add_paragraph('Description !!!')"
   ]
  },
  {
   "cell_type": "code",
   "execution_count": 4,
   "id": "8ff43f5a",
   "metadata": {},
   "outputs": [],
   "source": [
    "doc.save('description.docx')"
   ]
  },
  {
   "cell_type": "code",
   "execution_count": 5,
   "id": "c36b3321",
   "metadata": {},
   "outputs": [],
   "source": [
    "doc_2 = docx.Document('exemple.docx')"
   ]
  },
  {
   "cell_type": "code",
   "execution_count": 6,
   "id": "c1b36a26",
   "metadata": {},
   "outputs": [
    {
     "data": {
      "text/plain": [
       "1"
      ]
     },
     "execution_count": 6,
     "metadata": {},
     "output_type": "execute_result"
    }
   ],
   "source": [
    "len(doc_2.paragraphs)"
   ]
  },
  {
   "cell_type": "code",
   "execution_count": 7,
   "id": "8715b07b",
   "metadata": {},
   "outputs": [
    {
     "data": {
      "text/plain": [
       "\"Au royaume du traitement des données massives, Apache Spark est roi. Quelles caractéristiques en font alors le FrameWork de prédilection pour le traitement de données massives ? Qu'est-ce qui rend Spark hautement apprécié, notamment pour déployer les algorithmes de machine learning ? Et surtout, comment tirer profit de Spark avec Python ? Je vous accompagnerai dans cette formation où nous apporterons des réponses à toutes ces questions en mettant notamment l'accent sur la pratique à travers une multitude d'exemples. Je suis Omar Souissi, professeur associé en technologies de l'information et techniques d'optimisation et je collabore régulièrement avec les industriels. Si vous vous intéressez au Big Data, Spark représente incontestablement une brique essentielle dans votre formation. Alors suivez-moi sans plus tarder.\""
      ]
     },
     "execution_count": 7,
     "metadata": {},
     "output_type": "execute_result"
    }
   ],
   "source": [
    " doc_2.paragraphs[0].text"
   ]
  },
  {
   "cell_type": "code",
   "execution_count": 8,
   "id": "534460da",
   "metadata": {},
   "outputs": [
    {
     "data": {
      "text/plain": [
       "<docx.text.paragraph.Paragraph at 0x18ee166eaf0>"
      ]
     },
     "execution_count": 8,
     "metadata": {},
     "output_type": "execute_result"
    }
   ],
   "source": [
    "doc_2.add_paragraph('Fin description')"
   ]
  },
  {
   "cell_type": "code",
   "execution_count": 9,
   "id": "0e9cd99e",
   "metadata": {},
   "outputs": [],
   "source": [
    "doc_2.paragraphs[1].runs[0].add_break(docx.enum.text.WD_BREAK.PAGE)"
   ]
  },
  {
   "cell_type": "code",
   "execution_count": 10,
   "id": "507c75ec",
   "metadata": {},
   "outputs": [
    {
     "data": {
      "text/plain": [
       "<docx.text.paragraph.Paragraph at 0x18ee166edc0>"
      ]
     },
     "execution_count": 10,
     "metadata": {},
     "output_type": "execute_result"
    }
   ],
   "source": [
    "doc_2.add_paragraph('Description deuxième cours!')"
   ]
  },
  {
   "cell_type": "code",
   "execution_count": 11,
   "id": "e132e4f6",
   "metadata": {},
   "outputs": [],
   "source": [
    "doc.save('exemple_1.docx')"
   ]
  },
  {
   "cell_type": "code",
   "execution_count": null,
   "id": "167c2cbf",
   "metadata": {},
   "outputs": [],
   "source": []
  }
 ],
 "metadata": {
  "kernelspec": {
   "display_name": "Python 3",
   "language": "python",
   "name": "python3"
  },
  "language_info": {
   "codemirror_mode": {
    "name": "ipython",
    "version": 3
   },
   "file_extension": ".py",
   "mimetype": "text/x-python",
   "name": "python",
   "nbconvert_exporter": "python",
   "pygments_lexer": "ipython3",
   "version": "3.8.8"
  }
 },
 "nbformat": 4,
 "nbformat_minor": 5
}
