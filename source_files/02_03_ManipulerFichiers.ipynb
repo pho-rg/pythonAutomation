{
 "cells": [
  {
   "cell_type": "code",
   "execution_count": 24,
   "id": "15aacca4",
   "metadata": {},
   "outputs": [],
   "source": [
    "import shutil, os\n",
    "os.chdir('C:\\\\Users\\\\Link\\\\')"
   ]
  },
  {
   "cell_type": "code",
   "execution_count": 25,
   "id": "78fa8f24",
   "metadata": {},
   "outputs": [
    {
     "data": {
      "text/plain": [
       "'C:\\\\Users\\\\INPT\\\\texte_1.txt'"
      ]
     },
     "execution_count": 25,
     "metadata": {},
     "output_type": "execute_result"
    }
   ],
   "source": [
    "shutil.copy('C:\\\\Users\\\\Link\\\\texte_1.txt', 'C:\\\\Users\\\\INPT')"
   ]
  },
  {
   "cell_type": "code",
   "execution_count": 26,
   "id": "f40b3090",
   "metadata": {},
   "outputs": [
    {
     "data": {
      "text/plain": [
       "'C:\\\\Users\\\\INPT\\\\texte_2.txt'"
      ]
     },
     "execution_count": 26,
     "metadata": {},
     "output_type": "execute_result"
    }
   ],
   "source": [
    "shutil.copy('texte_1.txt', 'C:\\\\Users\\\\INPT\\\\texte_2.txt')"
   ]
  },
  {
   "cell_type": "code",
   "execution_count": 27,
   "id": "757fe00f",
   "metadata": {},
   "outputs": [
    {
     "data": {
      "text/plain": [
       "'C:\\\\Users\\\\INPT\\\\auto\\\\texte_2.txt'"
      ]
     },
     "execution_count": 27,
     "metadata": {},
     "output_type": "execute_result"
    }
   ],
   "source": [
    "shutil.move('C:\\\\Users\\\\INPT\\\\texte_2.txt', 'C:\\\\Users\\\\INPT\\\\auto')"
   ]
  },
  {
   "cell_type": "markdown",
   "id": "18d80ee8",
   "metadata": {},
   "source": [
    "shutil.move('C:\\\\Users\\\\INPT\\\\texte_2.txt', 'C:\\\\Users\\\\INPT\\\\auto\\\\texte_nouv.txt')"
   ]
  },
  {
   "cell_type": "code",
   "execution_count": 28,
   "id": "884e3b54",
   "metadata": {},
   "outputs": [
    {
     "data": {
      "text/plain": [
       "'C:\\\\Users\\\\Link'"
      ]
     },
     "execution_count": 28,
     "metadata": {},
     "output_type": "execute_result"
    }
   ],
   "source": [
    "os.getcwd()"
   ]
  },
  {
   "cell_type": "code",
   "execution_count": 29,
   "id": "a9e05654",
   "metadata": {},
   "outputs": [
    {
     "data": {
      "text/plain": [
       "['texte_2.txt']"
      ]
     },
     "execution_count": 29,
     "metadata": {},
     "output_type": "execute_result"
    }
   ],
   "source": [
    "os.chdir('C:\\\\Users\\\\INPT\\\\auto')\n",
    "os.listdir()"
   ]
  },
  {
   "cell_type": "code",
   "execution_count": 30,
   "id": "282047b7",
   "metadata": {},
   "outputs": [
    {
     "data": {
      "text/plain": [
       "['texte_2.txt', 'texte_3.txt']"
      ]
     },
     "execution_count": 30,
     "metadata": {},
     "output_type": "execute_result"
    }
   ],
   "source": [
    "shutil.copy('texte_2.txt', 'C:\\\\Users\\\\INPT\\\\auto\\\\texte_3.txt')\n",
    "os.listdir()"
   ]
  },
  {
   "cell_type": "code",
   "execution_count": 31,
   "id": "969b493a",
   "metadata": {},
   "outputs": [
    {
     "data": {
      "text/plain": [
       "['texte_3.txt']"
      ]
     },
     "execution_count": 31,
     "metadata": {},
     "output_type": "execute_result"
    }
   ],
   "source": [
    "os.unlink('texte_2.txt')\n",
    "os.listdir()"
   ]
  },
  {
   "cell_type": "code",
   "execution_count": 20,
   "id": "ef93a68c",
   "metadata": {},
   "outputs": [],
   "source": [
    "import send2trash"
   ]
  },
  {
   "cell_type": "markdown",
   "id": "f3e33719",
   "metadata": {},
   "source": [
    "send2trash.send2trash('texte_3.txt')"
   ]
  },
  {
   "cell_type": "code",
   "execution_count": 32,
   "id": "dd97a6f5",
   "metadata": {},
   "outputs": [],
   "source": [
    "import zipfile"
   ]
  },
  {
   "cell_type": "code",
   "execution_count": 33,
   "id": "5fb7147d",
   "metadata": {},
   "outputs": [],
   "source": [
    "nouvZip = zipfile.ZipFile('nouv.zip', 'w')\n",
    "nouvZip.write('texte_3.txt', compress_type=zipfile.ZIP_DEFLATED)\n",
    "nouvZip.close()"
   ]
  },
  {
   "cell_type": "code",
   "execution_count": 34,
   "id": "43f0b39c",
   "metadata": {},
   "outputs": [
    {
     "data": {
      "text/plain": [
       "['nouv.zip']"
      ]
     },
     "execution_count": 34,
     "metadata": {},
     "output_type": "execute_result"
    }
   ],
   "source": [
    "send2trash.send2trash('texte_3.txt')\n",
    "os.listdir()"
   ]
  },
  {
   "cell_type": "code",
   "execution_count": 35,
   "id": "6e7c9e7f",
   "metadata": {},
   "outputs": [],
   "source": [
    "extraireZip = zipfile.ZipFile('nouv.zip')\n",
    "extraireZip.extractall()\n",
    "extraireZip.close()"
   ]
  },
  {
   "cell_type": "code",
   "execution_count": 36,
   "id": "a4d1a6a7",
   "metadata": {},
   "outputs": [
    {
     "data": {
      "text/plain": [
       "['nouv.zip', 'texte_3.txt']"
      ]
     },
     "execution_count": 36,
     "metadata": {},
     "output_type": "execute_result"
    }
   ],
   "source": [
    "os.listdir()"
   ]
  },
  {
   "cell_type": "code",
   "execution_count": null,
   "id": "dfed215c",
   "metadata": {},
   "outputs": [],
   "source": []
  }
 ],
 "metadata": {
  "kernelspec": {
   "display_name": "Python 3 (ipykernel)",
   "language": "python",
   "name": "python3"
  },
  "language_info": {
   "codemirror_mode": {
    "name": "ipython",
    "version": 3
   },
   "file_extension": ".py",
   "mimetype": "text/x-python",
   "name": "python",
   "nbconvert_exporter": "python",
   "pygments_lexer": "ipython3",
   "version": "3.9.7"
  }
 },
 "nbformat": 4,
 "nbformat_minor": 5
}
