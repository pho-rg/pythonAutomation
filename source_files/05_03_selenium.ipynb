{
 "cells": [
  {
   "cell_type": "markdown",
   "id": "df08392f",
   "metadata": {},
   "source": [
    "import sys\n",
    "!{sys.executable} -m pip install selenium"
   ]
  },
  {
   "cell_type": "markdown",
   "id": "3dda981d",
   "metadata": {
    "scrolled": true
   },
   "source": [
    "import sys\n",
    "!{sys.executable} -m pip install webdriver-manager"
   ]
  },
  {
   "cell_type": "code",
   "execution_count": 86,
   "id": "08833825",
   "metadata": {},
   "outputs": [],
   "source": [
    "from selenium import webdriver\n",
    "from selenium.webdriver.common.keys import Keys"
   ]
  },
  {
   "cell_type": "code",
   "execution_count": 87,
   "id": "fa7ea95d",
   "metadata": {},
   "outputs": [],
   "source": [
    "from selenium import webdriver\n",
    "driver = webdriver.Chrome('chromedriver')"
   ]
  },
  {
   "cell_type": "code",
   "execution_count": 88,
   "id": "59d24407",
   "metadata": {},
   "outputs": [],
   "source": [
    "driver.maximize_window()"
   ]
  },
  {
   "cell_type": "code",
   "execution_count": 89,
   "id": "cc621fd2",
   "metadata": {},
   "outputs": [
    {
     "name": "stdout",
     "output_type": "stream",
     "text": [
      "Google\n"
     ]
    }
   ],
   "source": [
    "driver.get('https://www.google.com/')\n",
    "print(driver.title)"
   ]
  },
  {
   "cell_type": "code",
   "execution_count": 90,
   "id": "1c9e21ab",
   "metadata": {},
   "outputs": [
    {
     "name": "stderr",
     "output_type": "stream",
     "text": [
      "C:\\Users\\INPT\\AppData\\Local\\Temp/ipykernel_3944/563992458.py:1: DeprecationWarning: find_element_by_xpath is deprecated. Please use find_element(by=By.XPATH, value=xpath) instead\n",
      "  search=driver.find_element_by_xpath(\"/html/body/div[1]/div[3]/form/div[1]/div[1]/div[1]/div/div[2]/input\")\n"
     ]
    }
   ],
   "source": [
    "search=driver.find_element_by_xpath(\"/html/body/div[1]/div[3]/form/div[1]/div[1]/div[1]/div/div[2]/input\")"
   ]
  },
  {
   "cell_type": "code",
   "execution_count": 91,
   "id": "14022855",
   "metadata": {},
   "outputs": [],
   "source": [
    "search.send_keys('Félins')"
   ]
  },
  {
   "cell_type": "code",
   "execution_count": 92,
   "id": "1230fbb7",
   "metadata": {},
   "outputs": [],
   "source": [
    "search.submit()"
   ]
  },
  {
   "cell_type": "code",
   "execution_count": 93,
   "id": "dfd93083",
   "metadata": {},
   "outputs": [],
   "source": [
    "driver.close()"
   ]
  },
  {
   "cell_type": "code",
   "execution_count": 94,
   "id": "b13aebba",
   "metadata": {},
   "outputs": [
    {
     "name": "stderr",
     "output_type": "stream",
     "text": [
      "C:\\Users\\INPT\\AppData\\Local\\Temp/ipykernel_3944/3224705836.py:4: DeprecationWarning: find_element_by_xpath is deprecated. Please use find_element(by=By.XPATH, value=xpath) instead\n",
      "  search=driver.find_element_by_xpath(\"/html/body/div[1]/div[3]/form/div[1]/div[1]/div[1]/div/div[2]/input\")\n"
     ]
    }
   ],
   "source": [
    "driver = webdriver.Chrome('chromedriver')\n",
    "driver.maximize_window()\n",
    "driver.get('https://www.google.com/')\n",
    "search=driver.find_element_by_xpath(\"/html/body/div[1]/div[3]/form/div[1]/div[1]/div[1]/div/div[2]/input\")\n",
    "search.send_keys('météo Montréal')"
   ]
  },
  {
   "cell_type": "code",
   "execution_count": 95,
   "id": "13d0a742",
   "metadata": {},
   "outputs": [],
   "source": [
    "search.submit()"
   ]
  },
  {
   "cell_type": "code",
   "execution_count": 97,
   "id": "2aef5775",
   "metadata": {},
   "outputs": [
    {
     "name": "stderr",
     "output_type": "stream",
     "text": [
      "C:\\Users\\INPT\\AppData\\Local\\Temp/ipykernel_3944/701411434.py:1: DeprecationWarning: find_element_by_* commands are deprecated. Please use find_element() instead\n",
      "  search1=driver.find_element_by_id(\"wob_tm\")\n"
     ]
    }
   ],
   "source": [
    "search1=driver.find_element_by_id(\"wob_tm\")"
   ]
  },
  {
   "cell_type": "code",
   "execution_count": 98,
   "id": "ea428c42",
   "metadata": {},
   "outputs": [
    {
     "data": {
      "text/plain": [
       "'wob_tm'"
      ]
     },
     "execution_count": 98,
     "metadata": {},
     "output_type": "execute_result"
    }
   ],
   "source": [
    "search1.get_attribute(\"id\")"
   ]
  },
  {
   "cell_type": "code",
   "execution_count": 99,
   "id": "76b07da5",
   "metadata": {},
   "outputs": [
    {
     "data": {
      "text/plain": [
       "'wob_t q8U8x'"
      ]
     },
     "execution_count": 99,
     "metadata": {},
     "output_type": "execute_result"
    }
   ],
   "source": [
    "search1.get_attribute(\"class\")"
   ]
  },
  {
   "cell_type": "code",
   "execution_count": 100,
   "id": "2fd43a63",
   "metadata": {},
   "outputs": [
    {
     "data": {
      "text/plain": [
       "'display: inline;'"
      ]
     },
     "execution_count": 100,
     "metadata": {},
     "output_type": "execute_result"
    }
   ],
   "source": [
    "search1.get_attribute(\"style\")"
   ]
  },
  {
   "cell_type": "code",
   "execution_count": 101,
   "id": "8f3a52b6",
   "metadata": {},
   "outputs": [
    {
     "data": {
      "text/plain": [
       "'3'"
      ]
     },
     "execution_count": 101,
     "metadata": {},
     "output_type": "execute_result"
    }
   ],
   "source": [
    "search1.text"
   ]
  },
  {
   "cell_type": "code",
   "execution_count": 102,
   "id": "cbfef045",
   "metadata": {},
   "outputs": [
    {
     "name": "stderr",
     "output_type": "stream",
     "text": [
      "C:\\Users\\INPT\\AppData\\Local\\Temp/ipykernel_3944/237602218.py:1: DeprecationWarning: find_element_by_* commands are deprecated. Please use find_element() instead\n",
      "  prec =driver.find_element_by_id(\"wob_pp\")\n"
     ]
    },
    {
     "data": {
      "text/plain": [
       "'98%'"
      ]
     },
     "execution_count": 102,
     "metadata": {},
     "output_type": "execute_result"
    }
   ],
   "source": [
    "prec =driver.find_element_by_id(\"wob_pp\")\n",
    "prec.text"
   ]
  },
  {
   "cell_type": "code",
   "execution_count": null,
   "id": "056cba75",
   "metadata": {},
   "outputs": [],
   "source": []
  }
 ],
 "metadata": {
  "kernelspec": {
   "display_name": "Python 3 (ipykernel)",
   "language": "python",
   "name": "python3"
  },
  "language_info": {
   "codemirror_mode": {
    "name": "ipython",
    "version": 3
   },
   "file_extension": ".py",
   "mimetype": "text/x-python",
   "name": "python",
   "nbconvert_exporter": "python",
   "pygments_lexer": "ipython3",
   "version": "3.9.7"
  }
 },
 "nbformat": 4,
 "nbformat_minor": 5
}
