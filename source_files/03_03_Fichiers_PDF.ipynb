{
 "cells": [
  {
   "cell_type": "markdown",
   "id": "5391d622",
   "metadata": {},
   "source": [
    "import sys \n",
    "!{sys.executable} -m pip install PyPDF4"
   ]
  },
  {
   "cell_type": "code",
   "execution_count": 1,
   "id": "dd5248ae",
   "metadata": {},
   "outputs": [],
   "source": [
    "import PyPDF4"
   ]
  },
  {
   "cell_type": "code",
   "execution_count": 2,
   "id": "8590c5cb",
   "metadata": {},
   "outputs": [],
   "source": [
    "lecteurPdf = PyPDF4.PdfFileReader(open('exemple.pdf', 'rb'))"
   ]
  },
  {
   "cell_type": "code",
   "execution_count": 3,
   "id": "8b4771ad",
   "metadata": {},
   "outputs": [
    {
     "data": {
      "text/plain": [
       "False"
      ]
     },
     "execution_count": 3,
     "metadata": {},
     "output_type": "execute_result"
    }
   ],
   "source": [
    "lecteurPdf.isEncrypted"
   ]
  },
  {
   "cell_type": "code",
   "execution_count": 4,
   "id": "e64cdb57",
   "metadata": {},
   "outputs": [
    {
     "data": {
      "text/plain": [
       "{'/Author': 'Caroline Lecomte',\n",
       " '/Company': '',\n",
       " '/CreationDate': \"D:20220311093211+01'00'\",\n",
       " '/Creator': 'Acrobat PDFMaker 22 for Word',\n",
       " '/ModDate': \"D:20220311093213+01'00'\",\n",
       " '/Producer': 'Adobe PDF Library 22.1.117',\n",
       " '/SourceModified': 'D:20220311083011'}"
      ]
     },
     "execution_count": 4,
     "metadata": {},
     "output_type": "execute_result"
    }
   ],
   "source": [
    "lecteurPdf.documentInfo"
   ]
  },
  {
   "cell_type": "code",
   "execution_count": 5,
   "id": "6892fc97",
   "metadata": {},
   "outputs": [],
   "source": [
    "page= lecteurPdf.getPage(0)"
   ]
  },
  {
   "cell_type": "code",
   "execution_count": 6,
   "id": "626a1b06",
   "metadata": {},
   "outputs": [
    {
     "data": {
      "text/plain": [
       "' \\nContenu\\n \\nde\\n \\nla\\n \\nmarque\\n \\net\\n \\ndu\\n \\nsite\\n \\nweb\\n \\nde\\n \\nBig\\n \\nStar\\n \\nCollectibles\\n \\n \\n04/26/21\\n \\nBig\\n \\nStar\\n \\nCollectibles\\n \\nŒ\\n \\nmarque\\n \\nde\\n \\nformation\\n \\nLinkedIn\\n \\nLearning\\n \\nMission\\n \\net\\n \\nVal\\neurs\\n \\n \\nLa\\n \\nm\\nission\\n \\nde\\n \\nla\\n \\nmarque\\n \\n \\nPromouvoir\\n \\net\\n \\nrévolutionner\\n \\nla\\n \\njoie\\n \\net\\n \\nle\\n \\nsentiment\\n \\nde\\n \\nsatisfaction\\n \\nque\\n \\nprocure\\n \\nla\\n \\ncollection\\n \\nd™objets\\n \\nde\\n \\nhaute\\n \\nqualité,\\n \\nexclusifs\\n \\net\\n \\nuniques.\\n \\nLa\\n \\nvision\\n \\nde\\n \\nla\\n \\nmarque\\n \\n \\nÊtre\\n \\nle\\n \\nlead\\ner\\n \\nexpert\\n \\ndu\\n \\nmarché\\n \\ndes\\n \\nobjets\\n \\nde\\n \\ncollection\\n \\nrares\\n \\net\\n \\nuniques\\n \\net\\n \\nencourager\\n \\nla\\n \\ncroissance\\n \\ndu\\n \\nmarché\\n \\ndes\\n \\nobjets\\n \\nde\\n \\ncollection.\\n \\nLes\\n \\nvaleurs\\n \\nde\\n \\nla\\n \\nmarque\\n \\n \\nCréer\\n \\nnotre\\n \\nentreprise\\n \\nde\\n \\nla\\n \\nmeilleure\\n \\nfaçon\\n \\npossible\\n.\\n \\nImaginer\\n \\net\\n \\ninnover\\n \\npour\\n \\néviter\\n \\ntoute\\n \\ninertie.\\n \\nAccorder\\n \\naux\\n \\nclients\\n \\nle\\n \\nre\\nspect\\n \\nqu™ils\\n \\nméritent.\\n \\nContribuer\\n \\nà\\n \\nnotre\\n \\nbien\\n-\\nêtre\\n \\nà\\n \\ntous\\n \\nen\\n \\nadoptant\\n \\nune\\n \\nattitude\\n \\nsocialement\\n \\nresponsable.\\n \\n \\nHonorer\\n \\nles\\n \\ntalents\\n \\nde\\n \\nvotre\\n \\néquipe\\n.\\n \\n \\nA\\ngir\\n \\navec\\n \\nintégrité\\n \\nen\\n \\ntoute\\n \\ncirconstance\\n.\\n \\nPenser\\n \\nà\\n \\ns™amuser\\n.\\n \\n \\n'"
      ]
     },
     "execution_count": 6,
     "metadata": {},
     "output_type": "execute_result"
    }
   ],
   "source": [
    "page.extractText()"
   ]
  },
  {
   "cell_type": "code",
   "execution_count": 7,
   "id": "433e2c87",
   "metadata": {},
   "outputs": [
    {
     "data": {
      "text/plain": [
       "' Contenu de la marque et du site web de Big Star Collectibles  04/26/21 Big Star Collectibles Œ marque de formation LinkedIn Learning Mission et Valeurs  La mission de la marque  Promouvoir et révolutionner la joie et le sentiment de satisfaction que procure la collection d™objets de haute qualité, exclusifs et uniques. La vision de la marque  Être le leader expert du marché des objets de collection rares et uniques et encourager la croissance du marché des objets de collection. Les valeurs de la marque  Créer notre entreprise de la meilleure façon possible. Imaginer et innover pour éviter toute inertie. Accorder aux clients le respect qu™ils méritent. Contribuer à notre bien-être à tous en adoptant une attitude socialement responsable.  Honorer les talents de votre équipe.  Agir avec intégrité en toute circonstance. Penser à s™amuser.  '"
      ]
     },
     "execution_count": 7,
     "metadata": {},
     "output_type": "execute_result"
    }
   ],
   "source": [
    "pdftexte = \"\"\n",
    "pdftexte += page.extractText().replace('\\n','')\n",
    "pdftexte "
   ]
  },
  {
   "cell_type": "code",
   "execution_count": 8,
   "id": "ce988c71",
   "metadata": {},
   "outputs": [],
   "source": [
    "lecteurPdf_2 = PyPDF4.PdfFileReader(open('exemple.pdf', 'rb'))"
   ]
  },
  {
   "cell_type": "code",
   "execution_count": 9,
   "id": "4c292f12",
   "metadata": {},
   "outputs": [],
   "source": [
    "nouvPdf = PyPDF4.PdfFileWriter()"
   ]
  },
  {
   "cell_type": "code",
   "execution_count": 10,
   "id": "5eff11c7",
   "metadata": {},
   "outputs": [],
   "source": [
    "for numPage in range(lecteurPdf.numPages):\n",
    "    page = lecteurPdf.getPage(numPage)\n",
    "    nouvPdf.addPage(page)"
   ]
  },
  {
   "cell_type": "code",
   "execution_count": 11,
   "id": "1d26e67e",
   "metadata": {},
   "outputs": [],
   "source": [
    "for numPage in range(lecteurPdf_2.numPages):\n",
    "    page = lecteurPdf_2.getPage(numPage)\n",
    "    nouvPdf.addPage(page)"
   ]
  },
  {
   "cell_type": "code",
   "execution_count": 12,
   "id": "06489a73",
   "metadata": {},
   "outputs": [],
   "source": [
    "pdfComb = open('combFichiers.pdf', 'wb')\n",
    "nouvPdf.write(pdfComb)\n",
    "pdfComb.close()"
   ]
  },
  {
   "cell_type": "code",
   "execution_count": 23,
   "id": "90861a3b",
   "metadata": {},
   "outputs": [],
   "source": [
    "fichierPdf = open('combFichiers.pdf', 'rb')\n",
    "lecteurPdf_3 = PyPDF4.PdfFileReader(fichierPdf)\n",
    "nouvPdf_2 = PyPDF4.PdfFileWriter()\n",
    "for numPage in range(lecteurPdf_3.numPages):\n",
    "    nouvPdf_2.addPage(lecteurPdf_3.getPage(numPage))\n",
    "nouvPdf_2.encrypt('code')\n",
    "resPdf = open('crypté.pdf', 'wb')\n",
    "nouvPdf_2.write(resPdf)\n",
    "resPdf.close()"
   ]
  },
  {
   "cell_type": "code",
   "execution_count": 24,
   "id": "d132f570",
   "metadata": {},
   "outputs": [],
   "source": [
    "lecteurPdf_4 = PyPDF4.PdfFileReader(open('crypté.pdf', 'rb'))"
   ]
  },
  {
   "cell_type": "code",
   "execution_count": 25,
   "id": "23b98215",
   "metadata": {},
   "outputs": [
    {
     "data": {
      "text/plain": [
       "True"
      ]
     },
     "execution_count": 25,
     "metadata": {},
     "output_type": "execute_result"
    }
   ],
   "source": [
    "lecteurPdf_4.isEncrypted"
   ]
  },
  {
   "cell_type": "code",
   "execution_count": 26,
   "id": "e9d6201b",
   "metadata": {},
   "outputs": [
    {
     "ename": "PdfReadError",
     "evalue": "file has not been decrypted",
     "output_type": "error",
     "traceback": [
      "\u001b[1;31m---------------------------------------------------------------------------\u001b[0m",
      "\u001b[1;31mPdfReadError\u001b[0m                              Traceback (most recent call last)",
      "\u001b[1;32m~\\AppData\\Local\\Temp/ipykernel_23508/2525817041.py\u001b[0m in \u001b[0;36m<module>\u001b[1;34m\u001b[0m\n\u001b[1;32m----> 1\u001b[1;33m \u001b[0mlecteurPdf_4\u001b[0m\u001b[1;33m.\u001b[0m\u001b[0mgetPage\u001b[0m\u001b[1;33m(\u001b[0m\u001b[1;36m0\u001b[0m\u001b[1;33m)\u001b[0m\u001b[1;33m\u001b[0m\u001b[1;33m\u001b[0m\u001b[0m\n\u001b[0m",
      "\u001b[1;32m~\\anaconda3\\lib\\site-packages\\PyPDF4\\pdf.py\u001b[0m in \u001b[0;36mgetPage\u001b[1;34m(self, pageNumber)\u001b[0m\n\u001b[0;32m   1238\u001b[0m         \u001b[1;31m#assert not self.trailer.has_key(\"/Encrypt\")\u001b[0m\u001b[1;33m\u001b[0m\u001b[1;33m\u001b[0m\u001b[0m\n\u001b[0;32m   1239\u001b[0m         \u001b[1;32mif\u001b[0m \u001b[0mself\u001b[0m\u001b[1;33m.\u001b[0m\u001b[0mflattenedPages\u001b[0m \u001b[1;33m==\u001b[0m \u001b[1;32mNone\u001b[0m\u001b[1;33m:\u001b[0m\u001b[1;33m\u001b[0m\u001b[1;33m\u001b[0m\u001b[0m\n\u001b[1;32m-> 1240\u001b[1;33m             \u001b[0mself\u001b[0m\u001b[1;33m.\u001b[0m\u001b[0m_flatten\u001b[0m\u001b[1;33m(\u001b[0m\u001b[1;33m)\u001b[0m\u001b[1;33m\u001b[0m\u001b[1;33m\u001b[0m\u001b[0m\n\u001b[0m\u001b[0;32m   1241\u001b[0m         \u001b[1;32mreturn\u001b[0m \u001b[0mself\u001b[0m\u001b[1;33m.\u001b[0m\u001b[0mflattenedPages\u001b[0m\u001b[1;33m[\u001b[0m\u001b[0mpageNumber\u001b[0m\u001b[1;33m]\u001b[0m\u001b[1;33m\u001b[0m\u001b[1;33m\u001b[0m\u001b[0m\n\u001b[0;32m   1242\u001b[0m \u001b[1;33m\u001b[0m\u001b[0m\n",
      "\u001b[1;32m~\\anaconda3\\lib\\site-packages\\PyPDF4\\pdf.py\u001b[0m in \u001b[0;36m_flatten\u001b[1;34m(self, pages, inherit, indirectRef)\u001b[0m\n\u001b[0;32m   1567\u001b[0m         \u001b[1;32mif\u001b[0m \u001b[0mpages\u001b[0m \u001b[1;33m==\u001b[0m \u001b[1;32mNone\u001b[0m\u001b[1;33m:\u001b[0m\u001b[1;33m\u001b[0m\u001b[1;33m\u001b[0m\u001b[0m\n\u001b[0;32m   1568\u001b[0m             \u001b[0mself\u001b[0m\u001b[1;33m.\u001b[0m\u001b[0mflattenedPages\u001b[0m \u001b[1;33m=\u001b[0m \u001b[1;33m[\u001b[0m\u001b[1;33m]\u001b[0m\u001b[1;33m\u001b[0m\u001b[1;33m\u001b[0m\u001b[0m\n\u001b[1;32m-> 1569\u001b[1;33m             \u001b[0mcatalog\u001b[0m \u001b[1;33m=\u001b[0m \u001b[0mself\u001b[0m\u001b[1;33m.\u001b[0m\u001b[0mtrailer\u001b[0m\u001b[1;33m[\u001b[0m\u001b[1;34m\"/Root\"\u001b[0m\u001b[1;33m]\u001b[0m\u001b[1;33m.\u001b[0m\u001b[0mgetObject\u001b[0m\u001b[1;33m(\u001b[0m\u001b[1;33m)\u001b[0m\u001b[1;33m\u001b[0m\u001b[1;33m\u001b[0m\u001b[0m\n\u001b[0m\u001b[0;32m   1570\u001b[0m             \u001b[0mpages\u001b[0m \u001b[1;33m=\u001b[0m \u001b[0mcatalog\u001b[0m\u001b[1;33m[\u001b[0m\u001b[1;34m\"/Pages\"\u001b[0m\u001b[1;33m]\u001b[0m\u001b[1;33m.\u001b[0m\u001b[0mgetObject\u001b[0m\u001b[1;33m(\u001b[0m\u001b[1;33m)\u001b[0m\u001b[1;33m\u001b[0m\u001b[1;33m\u001b[0m\u001b[0m\n\u001b[0;32m   1571\u001b[0m \u001b[1;33m\u001b[0m\u001b[0m\n",
      "\u001b[1;32m~\\anaconda3\\lib\\site-packages\\PyPDF4\\generic.py\u001b[0m in \u001b[0;36m__getitem__\u001b[1;34m(self, key)\u001b[0m\n\u001b[0;32m    516\u001b[0m \u001b[1;33m\u001b[0m\u001b[0m\n\u001b[0;32m    517\u001b[0m     \u001b[1;32mdef\u001b[0m \u001b[0m__getitem__\u001b[0m\u001b[1;33m(\u001b[0m\u001b[0mself\u001b[0m\u001b[1;33m,\u001b[0m \u001b[0mkey\u001b[0m\u001b[1;33m)\u001b[0m\u001b[1;33m:\u001b[0m\u001b[1;33m\u001b[0m\u001b[1;33m\u001b[0m\u001b[0m\n\u001b[1;32m--> 518\u001b[1;33m         \u001b[1;32mreturn\u001b[0m \u001b[0mdict\u001b[0m\u001b[1;33m.\u001b[0m\u001b[0m__getitem__\u001b[0m\u001b[1;33m(\u001b[0m\u001b[0mself\u001b[0m\u001b[1;33m,\u001b[0m \u001b[0mkey\u001b[0m\u001b[1;33m)\u001b[0m\u001b[1;33m.\u001b[0m\u001b[0mgetObject\u001b[0m\u001b[1;33m(\u001b[0m\u001b[1;33m)\u001b[0m\u001b[1;33m\u001b[0m\u001b[1;33m\u001b[0m\u001b[0m\n\u001b[0m\u001b[0;32m    519\u001b[0m \u001b[1;33m\u001b[0m\u001b[0m\n\u001b[0;32m    520\u001b[0m     \u001b[1;31m##\u001b[0m\u001b[1;33m\u001b[0m\u001b[1;33m\u001b[0m\u001b[0m\n",
      "\u001b[1;32m~\\anaconda3\\lib\\site-packages\\PyPDF4\\generic.py\u001b[0m in \u001b[0;36mgetObject\u001b[1;34m(self)\u001b[0m\n\u001b[0;32m    177\u001b[0m \u001b[1;33m\u001b[0m\u001b[0m\n\u001b[0;32m    178\u001b[0m     \u001b[1;32mdef\u001b[0m \u001b[0mgetObject\u001b[0m\u001b[1;33m(\u001b[0m\u001b[0mself\u001b[0m\u001b[1;33m)\u001b[0m\u001b[1;33m:\u001b[0m\u001b[1;33m\u001b[0m\u001b[1;33m\u001b[0m\u001b[0m\n\u001b[1;32m--> 179\u001b[1;33m         \u001b[1;32mreturn\u001b[0m \u001b[0mself\u001b[0m\u001b[1;33m.\u001b[0m\u001b[0mpdf\u001b[0m\u001b[1;33m.\u001b[0m\u001b[0mgetObject\u001b[0m\u001b[1;33m(\u001b[0m\u001b[0mself\u001b[0m\u001b[1;33m)\u001b[0m\u001b[1;33m.\u001b[0m\u001b[0mgetObject\u001b[0m\u001b[1;33m(\u001b[0m\u001b[1;33m)\u001b[0m\u001b[1;33m\u001b[0m\u001b[1;33m\u001b[0m\u001b[0m\n\u001b[0m\u001b[0;32m    180\u001b[0m \u001b[1;33m\u001b[0m\u001b[0m\n\u001b[0;32m    181\u001b[0m     \u001b[1;32mdef\u001b[0m \u001b[0m__repr__\u001b[0m\u001b[1;33m(\u001b[0m\u001b[0mself\u001b[0m\u001b[1;33m)\u001b[0m\u001b[1;33m:\u001b[0m\u001b[1;33m\u001b[0m\u001b[1;33m\u001b[0m\u001b[0m\n",
      "\u001b[1;32m~\\anaconda3\\lib\\site-packages\\PyPDF4\\pdf.py\u001b[0m in \u001b[0;36mgetObject\u001b[1;34m(self, indirectReference)\u001b[0m\n\u001b[0;32m   1680\u001b[0m                 \u001b[1;31m# if we don't have the encryption key:\u001b[0m\u001b[1;33m\u001b[0m\u001b[1;33m\u001b[0m\u001b[0m\n\u001b[0;32m   1681\u001b[0m                 \u001b[1;32mif\u001b[0m \u001b[1;32mnot\u001b[0m \u001b[0mhasattr\u001b[0m\u001b[1;33m(\u001b[0m\u001b[0mself\u001b[0m\u001b[1;33m,\u001b[0m \u001b[1;34m'_decryption_key'\u001b[0m\u001b[1;33m)\u001b[0m\u001b[1;33m:\u001b[0m\u001b[1;33m\u001b[0m\u001b[1;33m\u001b[0m\u001b[0m\n\u001b[1;32m-> 1682\u001b[1;33m                     \u001b[1;32mraise\u001b[0m \u001b[0mutils\u001b[0m\u001b[1;33m.\u001b[0m\u001b[0mPdfReadError\u001b[0m\u001b[1;33m(\u001b[0m\u001b[1;34m\"file has not been decrypted\"\u001b[0m\u001b[1;33m)\u001b[0m\u001b[1;33m\u001b[0m\u001b[1;33m\u001b[0m\u001b[0m\n\u001b[0m\u001b[0;32m   1683\u001b[0m                 \u001b[1;31m# otherwise, decrypt here...\u001b[0m\u001b[1;33m\u001b[0m\u001b[1;33m\u001b[0m\u001b[0m\n\u001b[0;32m   1684\u001b[0m                 \u001b[1;32mimport\u001b[0m \u001b[0mstruct\u001b[0m\u001b[1;33m\u001b[0m\u001b[1;33m\u001b[0m\u001b[0m\n",
      "\u001b[1;31mPdfReadError\u001b[0m: file has not been decrypted"
     ]
    }
   ],
   "source": [
    "lecteurPdf_4.getPage(0)"
   ]
  },
  {
   "cell_type": "code",
   "execution_count": 29,
   "id": "4f31cdeb",
   "metadata": {},
   "outputs": [
    {
     "data": {
      "text/plain": [
       "1"
      ]
     },
     "execution_count": 29,
     "metadata": {},
     "output_type": "execute_result"
    }
   ],
   "source": [
    "lecteurPdf_4.decrypt('code')"
   ]
  },
  {
   "cell_type": "code",
   "execution_count": 32,
   "id": "e4417644",
   "metadata": {},
   "outputs": [
    {
     "data": {
      "text/plain": [
       "{'/Producer': 'PyPDF4'}"
      ]
     },
     "execution_count": 32,
     "metadata": {},
     "output_type": "execute_result"
    }
   ],
   "source": [
    "lecteurPdf_4.documentInfo"
   ]
  },
  {
   "cell_type": "code",
   "execution_count": null,
   "id": "98659a6b",
   "metadata": {},
   "outputs": [],
   "source": []
  }
 ],
 "metadata": {
  "kernelspec": {
   "display_name": "Python 3 (ipykernel)",
   "language": "python",
   "name": "python3"
  },
  "language_info": {
   "codemirror_mode": {
    "name": "ipython",
    "version": 3
   },
   "file_extension": ".py",
   "mimetype": "text/x-python",
   "name": "python",
   "nbconvert_exporter": "python",
   "pygments_lexer": "ipython3",
   "version": "3.9.7"
  }
 },
 "nbformat": 4,
 "nbformat_minor": 5
}
