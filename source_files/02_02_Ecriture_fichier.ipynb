{
 "cells": [
  {
   "cell_type": "code",
   "execution_count": 53,
   "id": "510d8afd",
   "metadata": {},
   "outputs": [],
   "source": [
    "nouvFichier = open('nouv.txt', 'w')"
   ]
  },
  {
   "cell_type": "code",
   "execution_count": 54,
   "id": "db606b96",
   "metadata": {},
   "outputs": [],
   "source": [
    "nouvFichier.write('Automatiser avec Python')\n",
    "nouvFichier.close()"
   ]
  },
  {
   "cell_type": "code",
   "execution_count": 55,
   "id": "cc3feb7f",
   "metadata": {},
   "outputs": [],
   "source": [
    "nouvFichier = open('nouv.txt', 'a')\n",
    "nouvFichier.write('\\nécrire dans un fichier au format .txt')\n",
    "nouvFichier.close()"
   ]
  },
  {
   "cell_type": "code",
   "execution_count": 56,
   "id": "a869830d",
   "metadata": {},
   "outputs": [
    {
     "data": {
      "text/plain": [
       "['Automatiser avec Python\\n', 'écrire dans un fichier au format .txt']"
      ]
     },
     "execution_count": 56,
     "metadata": {},
     "output_type": "execute_result"
    }
   ],
   "source": [
    "nouvFichier = open('nouv.txt')\n",
    "contenu = nouvFichier.readlines()\n",
    "nouvFichier.close()\n",
    "contenu"
   ]
  },
  {
   "cell_type": "code",
   "execution_count": 57,
   "id": "24821763",
   "metadata": {},
   "outputs": [],
   "source": [
    "with open('nouv.txt', 'a') as nouvFichier:\n",
    "    nouvFichier.write('\\n Fin')"
   ]
  },
  {
   "cell_type": "code",
   "execution_count": 58,
   "id": "724c52dc",
   "metadata": {},
   "outputs": [
    {
     "data": {
      "text/plain": [
       "['Automatiser avec Python\\n',\n",
       " 'écrire dans un fichier au format .txt\\n',\n",
       " ' Fin']"
      ]
     },
     "execution_count": 58,
     "metadata": {},
     "output_type": "execute_result"
    }
   ],
   "source": [
    "nouvFichier = open('nouv.txt')\n",
    "contenu = nouvFichier.readlines()\n",
    "nouvFichier.close()\n",
    "contenu"
   ]
  },
  {
   "cell_type": "code",
   "execution_count": 51,
   "id": "17686eb8",
   "metadata": {},
   "outputs": [
    {
     "name": "stdout",
     "output_type": "stream",
     "text": [
      "Ira\n",
      "\n",
      "Diana\n",
      "\n",
      "Val\n",
      "\n",
      "Omar\n"
     ]
    }
   ],
   "source": [
    "listeEtudiants = open('liste.txt', 'r')\n",
    "contenu = listeEtudiants.readlines()\n",
    "listeEtudiants.close()\n",
    "for nom in contenu:\n",
    "    print(nom)"
   ]
  },
  {
   "cell_type": "code",
   "execution_count": 56,
   "id": "2e5cf858",
   "metadata": {},
   "outputs": [],
   "source": [
    "listeEtudiantsId = open('listeId.txt', 'x')\n",
    "i=1\n",
    "for nom in contenu:\n",
    "    listeEtudiantsId.write(\"id\"+ str(i)+ \"   \" + nom +\"\\n\")\n",
    "    i=i+1"
   ]
  },
  {
   "cell_type": "code",
   "execution_count": 57,
   "id": "92516b41",
   "metadata": {},
   "outputs": [],
   "source": [
    "listeEtudiantsId.close()"
   ]
  },
  {
   "cell_type": "code",
   "execution_count": null,
   "id": "d00f44b1",
   "metadata": {},
   "outputs": [],
   "source": []
  }
 ],
 "metadata": {
  "kernelspec": {
   "display_name": "Python 3 (ipykernel)",
   "language": "python",
   "name": "python3"
  },
  "language_info": {
   "codemirror_mode": {
    "name": "ipython",
    "version": 3
   },
   "file_extension": ".py",
   "mimetype": "text/x-python",
   "name": "python",
   "nbconvert_exporter": "python",
   "pygments_lexer": "ipython3",
   "version": "3.9.7"
  }
 },
 "nbformat": 4,
 "nbformat_minor": 5
}
