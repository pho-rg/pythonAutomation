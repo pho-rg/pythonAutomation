{
 "cells": [
  {
   "cell_type": "code",
   "execution_count": 1,
   "id": "09922e89",
   "metadata": {},
   "outputs": [],
   "source": [
    "import docx\n",
    "from docxtpl import DocxTemplate"
   ]
  },
  {
   "cell_type": "code",
   "execution_count": 2,
   "id": "033fe37e",
   "metadata": {},
   "outputs": [],
   "source": [
    "doc = docx.Document('exemple_.docx')"
   ]
  },
  {
   "cell_type": "code",
   "execution_count": 3,
   "id": "0b4b1577",
   "metadata": {},
   "outputs": [],
   "source": [
    "from docx.shared import Inches"
   ]
  },
  {
   "cell_type": "code",
   "execution_count": 5,
   "id": "ad92ae80",
   "metadata": {},
   "outputs": [
    {
     "data": {
      "text/plain": [
       "<docx.shape.InlineShape at 0x141203e0910>"
      ]
     },
     "execution_count": 5,
     "metadata": {},
     "output_type": "execute_result"
    }
   ],
   "source": [
    "doc.add_picture('automatisation.png',width=Inches(0.5))"
   ]
  },
  {
   "cell_type": "code",
   "execution_count": 6,
   "id": "a6d038e9",
   "metadata": {},
   "outputs": [],
   "source": [
    "doc.save('exemple_1.docx')"
   ]
  },
  {
   "cell_type": "code",
   "execution_count": 7,
   "id": "ffe28f0b",
   "metadata": {},
   "outputs": [],
   "source": [
    "doc_3 = DocxTemplate('exemple_3.docx')"
   ]
  },
  {
   "cell_type": "code",
   "execution_count": 8,
   "id": "ddecb651",
   "metadata": {},
   "outputs": [],
   "source": [
    "contexte = {'nom':'Omar SOUISSI'}\n",
    "doc_3.render(contexte)"
   ]
  },
  {
   "cell_type": "code",
   "execution_count": 9,
   "id": "197559e7",
   "metadata": {},
   "outputs": [],
   "source": [
    "doc_3.save('exemple_4.docx')"
   ]
  },
  {
   "cell_type": "code",
   "execution_count": null,
   "id": "de90113a",
   "metadata": {},
   "outputs": [],
   "source": []
  }
 ],
 "metadata": {
  "kernelspec": {
   "display_name": "Python 3",
   "language": "python",
   "name": "python3"
  },
  "language_info": {
   "codemirror_mode": {
    "name": "ipython",
    "version": 3
   },
   "file_extension": ".py",
   "mimetype": "text/x-python",
   "name": "python",
   "nbconvert_exporter": "python",
   "pygments_lexer": "ipython3",
   "version": "3.8.8"
  }
 },
 "nbformat": 4,
 "nbformat_minor": 5
}
