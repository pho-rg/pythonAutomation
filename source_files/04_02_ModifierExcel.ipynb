{
 "cells": [
  {
   "cell_type": "code",
   "execution_count": 22,
   "id": "fcb9bf6a",
   "metadata": {},
   "outputs": [],
   "source": [
    "import openpyxl\n",
    "import pandas"
   ]
  },
  {
   "cell_type": "code",
   "execution_count": 23,
   "id": "c9b3b528",
   "metadata": {},
   "outputs": [
    {
     "data": {
      "text/plain": [
       "['Feuil1']"
      ]
     },
     "execution_count": 23,
     "metadata": {},
     "output_type": "execute_result"
    }
   ],
   "source": [
    "wb = openpyxl.load_workbook('exemple.xlsx')\n",
    "wb.sheetnames"
   ]
  },
  {
   "cell_type": "code",
   "execution_count": 24,
   "id": "8d9dff9d",
   "metadata": {},
   "outputs": [],
   "source": [
    "Feuil1 = wb['Feuil1']\n",
    "Feuil1.title = 'InfosVendeurs'"
   ]
  },
  {
   "cell_type": "code",
   "execution_count": 25,
   "id": "17f6b3ae",
   "metadata": {},
   "outputs": [
    {
     "data": {
      "text/plain": [
       "['InfosVendeurs']"
      ]
     },
     "execution_count": 25,
     "metadata": {},
     "output_type": "execute_result"
    }
   ],
   "source": [
    "wb.sheetnames"
   ]
  },
  {
   "cell_type": "code",
   "execution_count": 26,
   "id": "06899397",
   "metadata": {},
   "outputs": [
    {
     "data": {
      "text/plain": [
       "<Worksheet \"Sheet\">"
      ]
     },
     "execution_count": 26,
     "metadata": {},
     "output_type": "execute_result"
    }
   ],
   "source": [
    "wb.create_sheet()"
   ]
  },
  {
   "cell_type": "code",
   "execution_count": 27,
   "id": "022dc5ca",
   "metadata": {},
   "outputs": [
    {
     "data": {
      "text/plain": [
       "['InfosVendeurs', 'Sheet']"
      ]
     },
     "execution_count": 27,
     "metadata": {},
     "output_type": "execute_result"
    }
   ],
   "source": [
    "wb.sheetnames"
   ]
  },
  {
   "cell_type": "code",
   "execution_count": 28,
   "id": "0b1d5392",
   "metadata": {},
   "outputs": [],
   "source": [
    "del wb['Sheet']"
   ]
  },
  {
   "cell_type": "code",
   "execution_count": 29,
   "id": "a09c15e5",
   "metadata": {},
   "outputs": [
    {
     "data": {
      "text/plain": [
       "['InfosVendeurs']"
      ]
     },
     "execution_count": 29,
     "metadata": {},
     "output_type": "execute_result"
    }
   ],
   "source": [
    "wb.sheetnames"
   ]
  },
  {
   "cell_type": "code",
   "execution_count": 30,
   "id": "f0fa2511",
   "metadata": {},
   "outputs": [
    {
     "data": {
      "text/plain": [
       "['stat', 'InfosVendeurs']"
      ]
     },
     "execution_count": 30,
     "metadata": {},
     "output_type": "execute_result"
    }
   ],
   "source": [
    "wb.create_sheet(index=0, title='stat')\n",
    "wb.sheetnames"
   ]
  },
  {
   "cell_type": "code",
   "execution_count": 31,
   "id": "d8f98d7f",
   "metadata": {},
   "outputs": [],
   "source": [
    "feuil = wb['stat']"
   ]
  },
  {
   "cell_type": "code",
   "execution_count": 32,
   "id": "73709353",
   "metadata": {},
   "outputs": [
    {
     "data": {
      "text/plain": [
       "'total'"
      ]
     },
     "execution_count": 32,
     "metadata": {},
     "output_type": "execute_result"
    }
   ],
   "source": [
    "Feuil1['C1'].value"
   ]
  },
  {
   "cell_type": "code",
   "execution_count": 33,
   "id": "65e0133f",
   "metadata": {},
   "outputs": [
    {
     "data": {
      "text/plain": [
       "'Total ventes'"
      ]
     },
     "execution_count": 33,
     "metadata": {},
     "output_type": "execute_result"
    }
   ],
   "source": [
    "Feuil1['C1'] = 'Total ventes'\n",
    "Feuil1['C1'].value"
   ]
  },
  {
   "cell_type": "code",
   "execution_count": 34,
   "id": "5217de9b",
   "metadata": {},
   "outputs": [],
   "source": [
    "from openpyxl.chart import BarChart, Series, Reference"
   ]
  },
  {
   "cell_type": "code",
   "execution_count": 35,
   "id": "9578e6bf",
   "metadata": {},
   "outputs": [],
   "source": [
    "graphe1 = BarChart()\n",
    "graphe1.type = \"col\"\n",
    "graphe1.style = 10\n",
    "graphe1.title = \"Diagramme à barres\"\n",
    "graphe1.y_axis.title = 'Nombre de ventes'\n",
    "graphe1.x_axis.title = 'Vendeur'"
   ]
  },
  {
   "cell_type": "code",
   "execution_count": 36,
   "id": "2901db02",
   "metadata": {},
   "outputs": [],
   "source": [
    "from openpyxl.chart import BarChart, Series, Reference"
   ]
  },
  {
   "cell_type": "code",
   "execution_count": 37,
   "id": "aa745855",
   "metadata": {},
   "outputs": [],
   "source": [
    "data = Reference(Feuil1, min_col=2, min_row=2, max_row=6)\n",
    "ven = Reference(Feuil1, min_col=1, min_row=2, max_row=6)\n",
    "graphe1.add_data(data, titles_from_data=False)\n",
    "graphe1.set_categories(ven)\n",
    "graphe1.shape = 4\n",
    "feuil.add_chart(chart1, \"A10\")"
   ]
  },
  {
   "cell_type": "code",
   "execution_count": 38,
   "id": "1f89f236",
   "metadata": {},
   "outputs": [],
   "source": [
    "wb.save(\"diagBar1.xlsx\")"
   ]
  },
  {
   "cell_type": "code",
   "execution_count": 39,
   "id": "780f9d59",
   "metadata": {},
   "outputs": [],
   "source": [
    "from openpyxl.chart import BarChart3D"
   ]
  },
  {
   "cell_type": "code",
   "execution_count": 40,
   "id": "5a7d93fb",
   "metadata": {},
   "outputs": [],
   "source": [
    "data = Reference(Feuil1, min_col=2, min_row=1, max_col=3, max_row=6)\n",
    "titles = Reference(Feuil1, min_col=1, min_row=1, max_row=6)\n",
    "graphe2 = BarChart3D()\n",
    "graphe2.title = \"Diagramme à barres 3D\"\n",
    "graphe2.add_data(data=data, titles_from_data=True)\n",
    "graphe2.set_categories(titles)"
   ]
  },
  {
   "cell_type": "code",
   "execution_count": 41,
   "id": "68d1979b",
   "metadata": {},
   "outputs": [],
   "source": [
    "feuil.add_chart(graphe2, \"A26\")"
   ]
  },
  {
   "cell_type": "code",
   "execution_count": 42,
   "id": "e4946ddc",
   "metadata": {},
   "outputs": [],
   "source": [
    "wb.save(\"diagBar2.xlsx\")"
   ]
  },
  {
   "cell_type": "code",
   "execution_count": null,
   "id": "36d4d8ee",
   "metadata": {},
   "outputs": [],
   "source": []
  }
 ],
 "metadata": {
  "kernelspec": {
   "display_name": "Python 3 (ipykernel)",
   "language": "python",
   "name": "python3"
  },
  "language_info": {
   "codemirror_mode": {
    "name": "ipython",
    "version": 3
   },
   "file_extension": ".py",
   "mimetype": "text/x-python",
   "name": "python",
   "nbconvert_exporter": "python",
   "pygments_lexer": "ipython3",
   "version": "3.9.7"
  }
 },
 "nbformat": 4,
 "nbformat_minor": 5
}
