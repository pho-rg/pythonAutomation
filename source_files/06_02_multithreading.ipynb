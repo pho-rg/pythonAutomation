{
 "cells": [
  {
   "cell_type": "code",
   "execution_count": 4,
   "id": "15de2ff2",
   "metadata": {},
   "outputs": [],
   "source": [
    "import threading\n",
    "import time, datetime"
   ]
  },
  {
   "cell_type": "code",
   "execution_count": null,
   "id": "47c1f815",
   "metadata": {},
   "outputs": [],
   "source": [
    "startTime = datetime.datetime(2030, 11, 18, 0, 0, 0)\n",
    "while datetime.datetime.now() < startTime:\n",
    "    time.sleep(1)\n",
    "print('Début programme')"
   ]
  },
  {
   "cell_type": "code",
   "execution_count": 11,
   "id": "8dcdc7fa",
   "metadata": {},
   "outputs": [],
   "source": [
    "def afficher_tik_quatre_fois():\n",
    "  for i in range(4):\n",
    "    print(\"tik\")"
   ]
  },
  {
   "cell_type": "code",
   "execution_count": 12,
   "id": "06e83dd4",
   "metadata": {},
   "outputs": [],
   "source": [
    "def afficher_tok_quatre_fois(): \n",
    "    for i in range(4): \n",
    "      print(\"tok\") "
   ]
  },
  {
   "cell_type": "code",
   "execution_count": 13,
   "id": "7769c630",
   "metadata": {},
   "outputs": [
    {
     "name": "stdout",
     "output_type": "stream",
     "text": [
      "tik\n",
      "tik\n",
      "tik\n",
      "tik\n",
      "tok\n",
      "tok\n",
      "tok\n",
      "tok\n"
     ]
    }
   ],
   "source": [
    "t1 = threading.Thread(target=afficher_tik_quatre_fois)  \n",
    "t2 = threading.Thread(target=afficher_tok_quatre_fois)  \n",
    "\n",
    "t1.start()\n",
    "t2.start()"
   ]
  },
  {
   "cell_type": "code",
   "execution_count": 7,
   "id": "7d087312",
   "metadata": {},
   "outputs": [
    {
     "name": "stdout",
     "output_type": "stream",
     "text": [
      "num1 & num2 & num3\n"
     ]
    }
   ],
   "source": [
    "threadObj = threading.Thread(target=print, args=['num1', 'num2', 'num3'],kwargs={'sep': ' & '})\n",
    "threadObj.start()"
   ]
  },
  {
   "cell_type": "code",
   "execution_count": 19,
   "id": "a05de33d",
   "metadata": {},
   "outputs": [],
   "source": [
    "def afficher_tik_quatre_fois_pause():\n",
    "    for i in range(4):\n",
    "        time.sleep(2)\n",
    "        print(\"tik\")"
   ]
  },
  {
   "cell_type": "code",
   "execution_count": 20,
   "id": "7819ca5d",
   "metadata": {},
   "outputs": [],
   "source": [
    "def afficher_tok_quatre_fois_pause(): \n",
    "    for i in range(4): \n",
    "        time.sleep(2)\n",
    "        print(\"tok\") "
   ]
  },
  {
   "cell_type": "code",
   "execution_count": 27,
   "id": "533a25e5",
   "metadata": {},
   "outputs": [
    {
     "name": "stdout",
     "output_type": "stream",
     "text": [
      "tik\n",
      "tok\n",
      "tik\n",
      "tok\n",
      "tik\n",
      "tok\n",
      "tik\n",
      "tok\n"
     ]
    }
   ],
   "source": [
    "t3 = threading.Thread(target=afficher_tik_quatre_fois_pause)  \n",
    "t4 = threading.Thread(target=afficher_tok_quatre_fois_pause)  \n",
    "\n",
    "t3.start()\n",
    "time.sleep(1)\n",
    "t4.start()"
   ]
  },
  {
   "cell_type": "code",
   "execution_count": null,
   "id": "2064a235",
   "metadata": {},
   "outputs": [],
   "source": []
  }
 ],
 "metadata": {
  "kernelspec": {
   "display_name": "Python 3 (ipykernel)",
   "language": "python",
   "name": "python3"
  },
  "language_info": {
   "codemirror_mode": {
    "name": "ipython",
    "version": 3
   },
   "file_extension": ".py",
   "mimetype": "text/x-python",
   "name": "python",
   "nbconvert_exporter": "python",
   "pygments_lexer": "ipython3",
   "version": "3.9.7"
  }
 },
 "nbformat": 4,
 "nbformat_minor": 5
}
