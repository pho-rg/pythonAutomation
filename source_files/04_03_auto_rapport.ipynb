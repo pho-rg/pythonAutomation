{
 "cells": [
  {
   "cell_type": "code",
   "execution_count": 1,
   "id": "ffd09091",
   "metadata": {},
   "outputs": [],
   "source": [
    "import shutil, os\n",
    "import sys\n",
    "import xlwings as xw  \n",
    "from docxtpl import DocxTemplate  \n",
    "import pandas as pd \n",
    "import matplotlib.pyplot as plt \n",
    "import win32com.client as win32 "
   ]
  },
  {
   "cell_type": "code",
   "execution_count": 2,
   "id": "0344bebe",
   "metadata": {},
   "outputs": [],
   "source": [
    "def convert_to_pdf(doc):\n",
    "    \"\"\"Convert given word document to pdf\"\"\"\n",
    "    word = win32.DispatchEx(\"Word.Application\")\n",
    "    new_name = doc.replace(\".docx\", r\".pdf\")\n",
    "    worddoc = word.Documents.Open(doc)\n",
    "    worddoc.SaveAs(new_name, FileFormat=17)\n",
    "    worddoc.Close()\n",
    "    return None"
   ]
  },
  {
   "cell_type": "code",
   "execution_count": 3,
   "id": "faeec7a8",
   "metadata": {},
   "outputs": [],
   "source": [
    "import openpyxl"
   ]
  },
  {
   "cell_type": "code",
   "execution_count": 4,
   "id": "d0b74b8e",
   "metadata": {},
   "outputs": [
    {
     "data": {
      "text/plain": [
       "['Janvier2022']"
      ]
     },
     "execution_count": 4,
     "metadata": {},
     "output_type": "execute_result"
    }
   ],
   "source": [
    "wb = openpyxl.load_workbook('exemple1.xlsx')\n",
    "wb.sheetnames"
   ]
  },
  {
   "cell_type": "code",
   "execution_count": 5,
   "id": "1cff541d",
   "metadata": {},
   "outputs": [
    {
     "data": {
      "text/plain": [
       "'Janvier2022'"
      ]
     },
     "execution_count": 5,
     "metadata": {},
     "output_type": "execute_result"
    }
   ],
   "source": [
    "per = wb['Janvier2022']\n",
    "per.title"
   ]
  },
  {
   "cell_type": "code",
   "execution_count": 6,
   "id": "05d926fa",
   "metadata": {},
   "outputs": [
    {
     "data": {
      "text/plain": [
       "536"
      ]
     },
     "execution_count": 6,
     "metadata": {},
     "output_type": "execute_result"
    }
   ],
   "source": [
    "import pandas as pd\n",
    "from itertools import islice\n",
    "d = per.values\n",
    "cols = next(d)[1:]\n",
    "d = list(d)\n",
    "idx = [r[0] for r in d]\n",
    "d = (islice(r, 1, None) for r in d)\n",
    "df = pd.DataFrame(d, index=idx, columns=cols)\n",
    "nventes=df[\"Nombre de ventes\"].sum()\n",
    "nventes"
   ]
  },
  {
   "cell_type": "code",
   "execution_count": 7,
   "id": "5b76be3b",
   "metadata": {},
   "outputs": [],
   "source": [
    "doc = DocxTemplate('rapport.docx')\n",
    "contexte = {'per':per.title, 'ventes':nventes}"
   ]
  },
  {
   "cell_type": "code",
   "execution_count": 8,
   "id": "94012ec3",
   "metadata": {},
   "outputs": [
    {
     "data": {
      "image/png": "[encoded data removed]",
      "text/plain": [
       "<Figure size 432x288 with 1 Axes>"
      ]
     },
     "metadata": {
      "needs_background": "light"
     },
     "output_type": "display_data"
    }
   ],
   "source": [
    "plot = df.plot(kind=\"barh\")\n",
    "fig = plot.get_figure()\n",
    "fig.savefig(\"rep.png\", bbox_inches=\"tight\")"
   ]
  },
  {
   "cell_type": "code",
   "execution_count": 9,
   "id": "18edea19",
   "metadata": {},
   "outputs": [],
   "source": [
    "doc.replace_pic(\"pos1.png\", \".png\")"
   ]
  },
  {
   "cell_type": "code",
   "execution_count": 10,
   "id": "757be2f1",
   "metadata": {},
   "outputs": [],
   "source": [
    "doc.render(contexte)\n",
    "doc.save('Rapport' + per.title + '.docx')"
   ]
  }
 ],
 "metadata": {
  "kernelspec": {
   "display_name": "Python 3 (ipykernel)",
   "language": "python",
   "name": "python3"
  },
  "language_info": {
   "codemirror_mode": {
    "name": "ipython",
    "version": 3
   },
   "file_extension": ".py",
   "mimetype": "text/x-python",
   "name": "python",
   "nbconvert_exporter": "python",
   "pygments_lexer": "ipython3",
   "version": "3.9.7"
  }
 },
 "nbformat": 4,
 "nbformat_minor": 5
}
