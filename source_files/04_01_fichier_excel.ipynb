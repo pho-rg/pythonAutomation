{
 "cells": [
  {
   "cell_type": "code",
   "execution_count": 48,
   "id": "3c151c7c",
   "metadata": {},
   "outputs": [],
   "source": [
    "import openpyxl"
   ]
  },
  {
   "cell_type": "code",
   "execution_count": 49,
   "id": "22f7a113",
   "metadata": {},
   "outputs": [],
   "source": [
    "wb = openpyxl.load_workbook('exemple.xlsx')"
   ]
  },
  {
   "cell_type": "code",
   "execution_count": 50,
   "id": "1d5e56eb",
   "metadata": {},
   "outputs": [
    {
     "name": "stdout",
     "output_type": "stream",
     "text": [
      "['Feuil1']\n"
     ]
    }
   ],
   "source": [
    " print(wb.sheetnames)"
   ]
  },
  {
   "cell_type": "code",
   "execution_count": 51,
   "id": "cafea86d",
   "metadata": {},
   "outputs": [],
   "source": [
    "feuil = wb['Feuil1']"
   ]
  },
  {
   "cell_type": "code",
   "execution_count": 52,
   "id": "a25e3ca2",
   "metadata": {},
   "outputs": [
    {
     "data": {
      "text/plain": [
       "((<Cell 'Feuil1'.A1>, <Cell 'Feuil1'.B1>, <Cell 'Feuil1'.C1>),\n",
       " (<Cell 'Feuil1'.A2>, <Cell 'Feuil1'.B2>, <Cell 'Feuil1'.C2>),\n",
       " (<Cell 'Feuil1'.A3>, <Cell 'Feuil1'.B3>, <Cell 'Feuil1'.C3>),\n",
       " (<Cell 'Feuil1'.A4>, <Cell 'Feuil1'.B4>, <Cell 'Feuil1'.C4>),\n",
       " (<Cell 'Feuil1'.A5>, <Cell 'Feuil1'.B5>, <Cell 'Feuil1'.C5>),\n",
       " (<Cell 'Feuil1'.A6>, <Cell 'Feuil1'.B6>, <Cell 'Feuil1'.C6>))"
      ]
     },
     "execution_count": 52,
     "metadata": {},
     "output_type": "execute_result"
    }
   ],
   "source": [
    "tuple(feuil['A1':'C6'])"
   ]
  },
  {
   "cell_type": "code",
   "execution_count": 53,
   "id": "1f9c56c0",
   "metadata": {},
   "outputs": [
    {
     "name": "stdout",
     "output_type": "stream",
     "text": [
      "A1 Vendeur\n",
      "B1 Nombre de ventes\n",
      "C1 total\n",
      "A2 v1\n",
      "B2 122\n",
      "C2 2000\n",
      "A3 v2\n",
      "B3 90\n",
      "C3 1700\n",
      "A4 v3\n",
      "B4 132\n",
      "C4 1550\n",
      "A5 v4\n",
      "B5 87\n",
      "C5 1475\n",
      "A6 v5\n",
      "B6 105\n",
      "C6 2570\n"
     ]
    }
   ],
   "source": [
    "for rowOfCellObjects in feuil['A1':'C6']:\n",
    "    for cellObj in rowOfCellObjects:\n",
    "        print(cellObj.coordinate, cellObj.value)"
   ]
  },
  {
   "cell_type": "code",
   "execution_count": 22,
   "id": "3664e80c",
   "metadata": {},
   "outputs": [
    {
     "data": {
      "text/plain": [
       "('Vendeur', 'Nombre de ventes', 'total')"
      ]
     },
     "execution_count": 22,
     "metadata": {},
     "output_type": "execute_result"
    }
   ],
   "source": [
    "feuil = wb.active\n",
    "feuil['A1'].value,feuil['B1'].value,feuil['C1'].value"
   ]
  },
  {
   "cell_type": "code",
   "execution_count": 30,
   "id": "40e39dad",
   "metadata": {},
   "outputs": [],
   "source": [
    "case = feuil['C2']"
   ]
  },
  {
   "cell_type": "code",
   "execution_count": 35,
   "id": "d8539ed2",
   "metadata": {},
   "outputs": [
    {
     "data": {
      "text/plain": [
       "2000"
      ]
     },
     "execution_count": 35,
     "metadata": {},
     "output_type": "execute_result"
    }
   ],
   "source": [
    "case.value"
   ]
  },
  {
   "cell_type": "code",
   "execution_count": 39,
   "id": "89adaa06",
   "metadata": {},
   "outputs": [
    {
     "data": {
      "text/plain": [
       "2"
      ]
     },
     "execution_count": 39,
     "metadata": {},
     "output_type": "execute_result"
    }
   ],
   "source": [
    "case.row"
   ]
  },
  {
   "cell_type": "code",
   "execution_count": 40,
   "id": "9dbba660",
   "metadata": {},
   "outputs": [
    {
     "data": {
      "text/plain": [
       "3"
      ]
     },
     "execution_count": 40,
     "metadata": {},
     "output_type": "execute_result"
    }
   ],
   "source": [
    "case.column"
   ]
  },
  {
   "cell_type": "code",
   "execution_count": 47,
   "id": "1af12fda",
   "metadata": {},
   "outputs": [
    {
     "name": "stdout",
     "output_type": "stream",
     "text": [
      "Le vendeur V1 a réalisé un total de  2000\n"
     ]
    }
   ],
   "source": [
    "print('Le vendeur V' + str(case.row - 1), 'a réalisé un total de ', case.value)"
   ]
  },
  {
   "cell_type": "code",
   "execution_count": 43,
   "id": "3a16edf6",
   "metadata": {},
   "outputs": [
    {
     "name": "stdout",
     "output_type": "stream",
     "text": [
      "La case  C2 correspond à 2000\n"
     ]
    }
   ],
   "source": [
    "print('La case ',case.coordinate ,'correspond à',case.value)"
   ]
  },
  {
   "cell_type": "code",
   "execution_count": 32,
   "id": "1b30fdd8",
   "metadata": {},
   "outputs": [
    {
     "data": {
      "text/plain": [
       "<generator object Worksheet.values at 0x00000203F42A03C0>"
      ]
     },
     "execution_count": 32,
     "metadata": {},
     "output_type": "execute_result"
    }
   ],
   "source": [
    "feuil.values"
   ]
  },
  {
   "cell_type": "code",
   "execution_count": 33,
   "id": "84b34a94",
   "metadata": {},
   "outputs": [
    {
     "name": "stdout",
     "output_type": "stream",
     "text": [
      "Vendeur\n",
      "Nombre de ventes\n",
      "total\n",
      "v1\n",
      "122\n",
      "2000\n",
      "v2\n",
      "90\n",
      "1700\n",
      "v3\n",
      "132\n",
      "1550\n",
      "v4\n",
      "87\n",
      "1475\n",
      "v5\n",
      "105\n",
      "2570\n"
     ]
    }
   ],
   "source": [
    "for row in feuil.values:\n",
    "    for value in row:\n",
    "        print(value)"
   ]
  },
  {
   "cell_type": "code",
   "execution_count": 24,
   "id": "dc53591d",
   "metadata": {},
   "outputs": [],
   "source": [
    "import pandas as pd"
   ]
  },
  {
   "cell_type": "code",
   "execution_count": 25,
   "id": "c941978c",
   "metadata": {},
   "outputs": [
    {
     "data": {
      "text/html": [
       "<div>\n",
       "<style scoped>\n",
       "    .dataframe tbody tr th:only-of-type {\n",
       "        vertical-align: middle;\n",
       "    }\n",
       "\n",
       "    .dataframe tbody tr th {\n",
       "        vertical-align: top;\n",
       "    }\n",
       "\n",
       "    .dataframe thead th {\n",
       "        text-align: right;\n",
       "    }\n",
       "</style>\n",
       "<table border=\"1\" class=\"dataframe\">\n",
       "  <thead>\n",
       "    <tr style=\"text-align: right;\">\n",
       "      <th></th>\n",
       "      <th>0</th>\n",
       "      <th>1</th>\n",
       "      <th>2</th>\n",
       "    </tr>\n",
       "  </thead>\n",
       "  <tbody>\n",
       "    <tr>\n",
       "      <th>0</th>\n",
       "      <td>Vendeur</td>\n",
       "      <td>Nombre de ventes</td>\n",
       "      <td>total</td>\n",
       "    </tr>\n",
       "    <tr>\n",
       "      <th>1</th>\n",
       "      <td>v1</td>\n",
       "      <td>122</td>\n",
       "      <td>2000</td>\n",
       "    </tr>\n",
       "    <tr>\n",
       "      <th>2</th>\n",
       "      <td>v2</td>\n",
       "      <td>90</td>\n",
       "      <td>1700</td>\n",
       "    </tr>\n",
       "    <tr>\n",
       "      <th>3</th>\n",
       "      <td>v3</td>\n",
       "      <td>132</td>\n",
       "      <td>1550</td>\n",
       "    </tr>\n",
       "    <tr>\n",
       "      <th>4</th>\n",
       "      <td>v4</td>\n",
       "      <td>87</td>\n",
       "      <td>1475</td>\n",
       "    </tr>\n",
       "    <tr>\n",
       "      <th>5</th>\n",
       "      <td>v5</td>\n",
       "      <td>105</td>\n",
       "      <td>2570</td>\n",
       "    </tr>\n",
       "  </tbody>\n",
       "</table>\n",
       "</div>"
      ],
      "text/plain": [
       "         0                 1      2\n",
       "0  Vendeur  Nombre de ventes  total\n",
       "1       v1               122   2000\n",
       "2       v2                90   1700\n",
       "3       v3               132   1550\n",
       "4       v4                87   1475\n",
       "5       v5               105   2570"
      ]
     },
     "execution_count": 25,
     "metadata": {},
     "output_type": "execute_result"
    }
   ],
   "source": [
    "df = pd.DataFrame(feuil.values)\n",
    "df"
   ]
  },
  {
   "cell_type": "code",
   "execution_count": 26,
   "id": "ea0d1597",
   "metadata": {},
   "outputs": [
    {
     "data": {
      "text/html": [
       "<div>\n",
       "<style scoped>\n",
       "    .dataframe tbody tr th:only-of-type {\n",
       "        vertical-align: middle;\n",
       "    }\n",
       "\n",
       "    .dataframe tbody tr th {\n",
       "        vertical-align: top;\n",
       "    }\n",
       "\n",
       "    .dataframe thead th {\n",
       "        text-align: right;\n",
       "    }\n",
       "</style>\n",
       "<table border=\"1\" class=\"dataframe\">\n",
       "  <thead>\n",
       "    <tr style=\"text-align: right;\">\n",
       "      <th></th>\n",
       "      <th>Nombre de ventes</th>\n",
       "      <th>total</th>\n",
       "    </tr>\n",
       "  </thead>\n",
       "  <tbody>\n",
       "    <tr>\n",
       "      <th>v1</th>\n",
       "      <td>122</td>\n",
       "      <td>2000</td>\n",
       "    </tr>\n",
       "    <tr>\n",
       "      <th>v2</th>\n",
       "      <td>90</td>\n",
       "      <td>1700</td>\n",
       "    </tr>\n",
       "    <tr>\n",
       "      <th>v3</th>\n",
       "      <td>132</td>\n",
       "      <td>1550</td>\n",
       "    </tr>\n",
       "    <tr>\n",
       "      <th>v4</th>\n",
       "      <td>87</td>\n",
       "      <td>1475</td>\n",
       "    </tr>\n",
       "    <tr>\n",
       "      <th>v5</th>\n",
       "      <td>105</td>\n",
       "      <td>2570</td>\n",
       "    </tr>\n",
       "  </tbody>\n",
       "</table>\n",
       "</div>"
      ],
      "text/plain": [
       "    Nombre de ventes  total\n",
       "v1               122   2000\n",
       "v2                90   1700\n",
       "v3               132   1550\n",
       "v4                87   1475\n",
       "v5               105   2570"
      ]
     },
     "execution_count": 26,
     "metadata": {},
     "output_type": "execute_result"
    }
   ],
   "source": [
    "from itertools import islice\n",
    "d = feuil.values\n",
    "cols = next(d)[1:]\n",
    "d = list(d)\n",
    "idx = [r[0] for r in d]\n",
    "d = (islice(r, 1, None) for r in d)\n",
    "df = pd.DataFrame(d, index=idx, columns=cols)\n",
    "df"
   ]
  },
  {
   "cell_type": "code",
   "execution_count": 28,
   "id": "370715e3",
   "metadata": {},
   "outputs": [],
   "source": [
    "wb.save(\"C://Users//INPT//Desktop//fichier.xlsx\")"
   ]
  }
 ],
 "metadata": {
  "kernelspec": {
   "display_name": "Python 3 (ipykernel)",
   "language": "python",
   "name": "python3"
  },
  "language_info": {
   "codemirror_mode": {
    "name": "ipython",
    "version": 3
   },
   "file_extension": ".py",
   "mimetype": "text/x-python",
   "name": "python",
   "nbconvert_exporter": "python",
   "pygments_lexer": "ipython3",
   "version": "3.9.7"
  }
 },
 "nbformat": 4,
 "nbformat_minor": 5
}
