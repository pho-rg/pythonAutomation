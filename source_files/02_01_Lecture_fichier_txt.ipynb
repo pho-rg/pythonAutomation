{
 "cells": [
  {
   "cell_type": "code",
   "execution_count": 1,
   "id": "f08116ae",
   "metadata": {},
   "outputs": [
    {
     "data": {
      "text/plain": [
       "'C:\\\\Users\\\\INPT'"
      ]
     },
     "execution_count": 1,
     "metadata": {},
     "output_type": "execute_result"
    }
   ],
   "source": [
    "import os\n",
    "os.getcwd()"
   ]
  },
  {
   "cell_type": "code",
   "execution_count": 2,
   "id": "a8fdb404",
   "metadata": {},
   "outputs": [
    {
     "data": {
      "text/plain": [
       "'C:\\\\Users\\\\Link'"
      ]
     },
     "execution_count": 2,
     "metadata": {},
     "output_type": "execute_result"
    }
   ],
   "source": [
    "os.chdir('C:\\\\Users\\\\Link')\n",
    "os.getcwd()"
   ]
  },
  {
   "cell_type": "code",
   "execution_count": 3,
   "id": "ab34296f",
   "metadata": {},
   "outputs": [
    {
     "data": {
      "text/plain": [
       "163"
      ]
     },
     "execution_count": 3,
     "metadata": {},
     "output_type": "execute_result"
    }
   ],
   "source": [
    "os.path.getsize('C:\\\\Users\\\\Link\\\\texte_1.txt')"
   ]
  },
  {
   "cell_type": "code",
   "execution_count": 4,
   "id": "8c2ea764",
   "metadata": {},
   "outputs": [
    {
     "data": {
      "text/plain": [
       "('C:\\\\Users\\\\Link', 'texte_1.txt')"
      ]
     },
     "execution_count": 4,
     "metadata": {},
     "output_type": "execute_result"
    }
   ],
   "source": [
    "chemin='C:\\\\Users\\\\Link\\\\texte_1.txt'\n",
    "os.path.dirname(chemin), os.path.basename(chemin)"
   ]
  },
  {
   "cell_type": "code",
   "execution_count": 5,
   "id": "ef6d044d",
   "metadata": {},
   "outputs": [
    {
     "data": {
      "text/plain": [
       "('C:\\\\Users\\\\Link', 'texte_1.txt')"
      ]
     },
     "execution_count": 5,
     "metadata": {},
     "output_type": "execute_result"
    }
   ],
   "source": [
    "os.path.split(chemin)"
   ]
  },
  {
   "cell_type": "code",
   "execution_count": 6,
   "id": "7656a8f6",
   "metadata": {},
   "outputs": [
    {
     "data": {
      "text/plain": [
       "['texte_1.txt']"
      ]
     },
     "execution_count": 6,
     "metadata": {},
     "output_type": "execute_result"
    }
   ],
   "source": [
    "os.listdir('C:\\\\Users\\\\Link')"
   ]
  },
  {
   "cell_type": "code",
   "execution_count": 7,
   "id": "298a0e21",
   "metadata": {},
   "outputs": [
    {
     "data": {
      "text/plain": [
       "True"
      ]
     },
     "execution_count": 7,
     "metadata": {},
     "output_type": "execute_result"
    }
   ],
   "source": [
    "os.path.exists('C:\\\\Users')"
   ]
  },
  {
   "cell_type": "code",
   "execution_count": 8,
   "id": "ee05c92c",
   "metadata": {},
   "outputs": [
    {
     "data": {
      "text/plain": [
       "False"
      ]
     },
     "execution_count": 8,
     "metadata": {},
     "output_type": "execute_result"
    }
   ],
   "source": [
    " os.path.isfile('C:\\\\Users\\\\texte_1.txt')"
   ]
  },
  {
   "cell_type": "code",
   "execution_count": 9,
   "id": "ab6998a5",
   "metadata": {},
   "outputs": [
    {
     "data": {
      "text/plain": [
       "True"
      ]
     },
     "execution_count": 9,
     "metadata": {},
     "output_type": "execute_result"
    }
   ],
   "source": [
    " os.path.isfile('C:\\\\Users\\\\Link\\\\texte_1.txt')"
   ]
  },
  {
   "cell_type": "code",
   "execution_count": 10,
   "id": "bf0f2bf2",
   "metadata": {},
   "outputs": [
    {
     "data": {
      "text/plain": [
       "\"De nos jours, l'explosion du volume et de la variété des données ne laisse plus planer de doute : \\nle rôle du data scientist sera central dans les années à venir.\""
      ]
     },
     "execution_count": 10,
     "metadata": {},
     "output_type": "execute_result"
    }
   ],
   "source": [
    "texte = open('C:\\\\Users\\\\Link\\\\texte_1.txt')\n",
    "contenu = texte.read()\n",
    "contenu"
   ]
  },
  {
   "cell_type": "markdown",
   "id": "f83e246e",
   "metadata": {},
   "source": [
    "r en mode lecture. \\\n",
    "w en mode en écriture. \\\n",
    "a en mode ajout à la fin du fichier. \\\n",
    "b ouverture en mode binaire. \\\n",
    "t ouverture en mode texte. \\\n",
    "x création d un nouveau fichier en mode écriture."
   ]
  },
  {
   "cell_type": "code",
   "execution_count": 11,
   "id": "d8c74147",
   "metadata": {},
   "outputs": [],
   "source": [
    "texte.close()"
   ]
  },
  {
   "cell_type": "code",
   "execution_count": 12,
   "id": "8b396b8a",
   "metadata": {},
   "outputs": [],
   "source": [
    "import glob"
   ]
  },
  {
   "cell_type": "code",
   "execution_count": 14,
   "id": "a944842d",
   "metadata": {},
   "outputs": [
    {
     "data": {
      "text/plain": [
       "['C:\\\\\\\\Users\\\\\\\\Link\\\\texte_1.txt', 'C:\\\\\\\\Users\\\\\\\\Link\\\\texte_2.txt']"
      ]
     },
     "execution_count": 14,
     "metadata": {},
     "output_type": "execute_result"
    }
   ],
   "source": [
    "extensionCible = r\"C:\\\\Users\\\\Link\\\\*.txt\"\n",
    "glob.glob(extensionCible)"
   ]
  }
 ],
 "metadata": {
  "kernelspec": {
   "display_name": "Python 3 (ipykernel)",
   "language": "python",
   "name": "python3"
  },
  "language_info": {
   "codemirror_mode": {
    "name": "ipython",
    "version": 3
   },
   "file_extension": ".py",
   "mimetype": "text/x-python",
   "name": "python",
   "nbconvert_exporter": "python",
   "pygments_lexer": "ipython3",
   "version": "3.9.7"
  }
 },
 "nbformat": 4,
 "nbformat_minor": 5
}
