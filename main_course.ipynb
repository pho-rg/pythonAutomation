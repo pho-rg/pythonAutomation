{
 "cells": [
  {
   "cell_type": "code",
   "execution_count": 1,
   "id": "0eaf69ff",
   "metadata": {},
   "outputs": [],
   "source": [
    "import os"
   ]
  },
  {
   "cell_type": "markdown",
   "id": "9a2f09b8",
   "metadata": {},
   "source": [
    "###Environnement###"
   ]
  },
  {
   "cell_type": "code",
   "execution_count": 8,
   "id": "a5a91e7d",
   "metadata": {},
   "outputs": [
    {
     "data": {
      "text/plain": [
       "558"
      ]
     },
     "execution_count": 8,
     "metadata": {},
     "output_type": "execute_result"
    }
   ],
   "source": [
    "#environment\n",
    "#get current repo\n",
    "os.getcwd()\n",
    "\n",
    "#change directory\n",
    "#os.chdir('D:\\\\project\\\\algorithm\\\\ph202209B2LpytA')"
   ]
  },
  {
   "cell_type": "code",
   "execution_count": null,
   "id": "b2f701d3",
   "metadata": {},
   "outputs": [],
   "source": [
    "#file size\n",
    "os.path.getsize('D:\\\\project\\\\algorithm\\\\ph202209B2LpytA\\\\impulse.txt')"
   ]
  },
  {
   "cell_type": "code",
   "execution_count": 16,
   "id": "86389a72",
   "metadata": {},
   "outputs": [
    {
     "data": {
      "text/plain": [
       "('D:\\\\project\\\\algorithm\\\\ph202209B2LpytA', 'impulse.txt')"
      ]
     },
     "execution_count": 16,
     "metadata": {},
     "output_type": "execute_result"
    }
   ],
   "source": [
    "#variable\n",
    "myPath = 'D:\\\\project\\\\algorithm\\\\ph202209B2LpytA\\\\impulse.txt'\n",
    "\n",
    "#get path, get file name\n",
    "os.path.dirname(myPath), os.path.basename(myPath)"
   ]
  },
  {
   "cell_type": "code",
   "execution_count": 17,
   "id": "f9f50eb4",
   "metadata": {},
   "outputs": [
    {
     "data": {
      "text/plain": [
       "('D:\\\\project\\\\algorithm\\\\ph202209B2LpytA', 'impulse.txt')"
      ]
     },
     "execution_count": 17,
     "metadata": {},
     "output_type": "execute_result"
    }
   ],
   "source": [
    "#get path, get file name v2\n",
    "os.path.split(myPath)\n"
   ]
  },
  {
   "cell_type": "code",
   "execution_count": 18,
   "id": "51a16ec2",
   "metadata": {},
   "outputs": [
    {
     "data": {
      "text/plain": [
       "['.git', '.ipynb_checkpoints', 'impulse.txt', 'README.md', 'Untitled.ipynb']"
      ]
     },
     "execution_count": 18,
     "metadata": {},
     "output_type": "execute_result"
    }
   ],
   "source": [
    "#list file in repo\n",
    "os.listdir(os.path.dirname(myPath))"
   ]
  },
  {
   "cell_type": "code",
   "execution_count": 19,
   "id": "755b1c92",
   "metadata": {},
   "outputs": [
    {
     "data": {
      "text/plain": [
       "True"
      ]
     },
     "execution_count": 19,
     "metadata": {},
     "output_type": "execute_result"
    }
   ],
   "source": [
    "#existing file or repo (true fasle)\n",
    "os.path.exists(myPath)"
   ]
  },
  {
   "cell_type": "code",
   "execution_count": 20,
   "id": "f99f0bba",
   "metadata": {},
   "outputs": [
    {
     "data": {
      "text/plain": [
       "True"
      ]
     },
     "execution_count": 20,
     "metadata": {},
     "output_type": "execute_result"
    }
   ],
   "source": [
    "#is a file (true false)\n",
    "os.path.isfile(myPath)"
   ]
  },
  {
   "cell_type": "code",
   "execution_count": 21,
   "id": "558883a1",
   "metadata": {},
   "outputs": [
    {
     "data": {
      "text/plain": [
       "\"ph202209B2LpytA\\nAutomation task\\nintro to python and automation\\nfrom linkedInLearning course 'python-l-automatisation-des-taches'\\n\\nAdvantages of automation are already known through the industrial methods course. These advantages are accurate in many field from data analyse to operational tasks.\\n\\nThree point concerning the task to automise : 1what is the task frequence 2realisation costs 3error probability on the task\\n-> invoice management\\n-> excel manipulation\\n-> order and storage management\\n\\ntehnical language chosen: Python in anaconda environnement\\n\\n\""
      ]
     },
     "execution_count": 21,
     "metadata": {},
     "output_type": "execute_result"
    }
   ],
   "source": [
    "#reading file\n",
    "myText = open(myPath)\n",
    "myContent = myText.read()\n",
    "\n",
    "#display result\n",
    "myContent"
   ]
  },
  {
   "cell_type": "code",
   "execution_count": 23,
   "id": "099e1fa1",
   "metadata": {},
   "outputs": [
    {
     "data": {
      "text/plain": [
       "<function TextIOWrapper.close()>"
      ]
     },
     "execution_count": 23,
     "metadata": {},
     "output_type": "execute_result"
    }
   ],
   "source": [
    "#don t forget to close file\n",
    "myText.close"
   ]
  },
  {
   "cell_type": "markdown",
   "id": "9a456332",
   "metadata": {},
   "source": [
    "###Globe Module###"
   ]
  },
  {
   "cell_type": "code",
   "execution_count": 25,
   "id": "72b668cb",
   "metadata": {},
   "outputs": [],
   "source": [
    "import glob"
   ]
  },
  {
   "cell_type": "markdown",
   "id": "2dda257f",
   "metadata": {},
   "source": [
    "reading mode :\n",
    "r reading\n",
    "- w writing\n",
    "- a append (end of file)\n",
    "- b binary\n",
    "- t text mode\n",
    "- x creating a new file in w mode"
   ]
  },
  {
   "cell_type": "code",
   "execution_count": 26,
   "id": "55d8f4ec",
   "metadata": {},
   "outputs": [
    {
     "data": {
      "text/plain": [
       "['D:\\\\\\\\project\\\\\\\\algorithm\\\\\\\\ph202209B2LpytA\\\\impulse.txt']"
      ]
     },
     "execution_count": 26,
     "metadata": {},
     "output_type": "execute_result"
    }
   ],
   "source": [
    "#table of all files of a targeted extension in the repo\n",
    "extensionTarget = r'D:\\\\project\\\\algorithm\\\\ph202209B2LpytA\\\\*.txt'\n",
    "glob.glob(extensionTarget)"
   ]
  },
  {
   "cell_type": "code",
   "execution_count": 28,
   "id": "b70035a9",
   "metadata": {},
   "outputs": [],
   "source": [
    "#create and write in a file\n",
    "topicFile = open('topic_file.txt', 'w')\n",
    "topicFile.write('Automation with Python')\n",
    "topicFile.close()"
   ]
  },
  {
   "cell_type": "code",
   "execution_count": 30,
   "id": "5f7a6e97",
   "metadata": {},
   "outputs": [],
   "source": [
    "#add text in existing file\n",
    "topicFile = open('topic_file.txt','a')\n",
    "topicFile.write('\\nnewcontent added with append mode')\n",
    "topicFile.close()"
   ]
  },
  {
   "cell_type": "code",
   "execution_count": 31,
   "id": "74e8999f",
   "metadata": {},
   "outputs": [
    {
     "data": {
      "text/plain": [
       "['Automation with Python\\n', 'newcontent added with append mode']"
      ]
     },
     "execution_count": 31,
     "metadata": {},
     "output_type": "execute_result"
    }
   ],
   "source": [
    "#display file in line\n",
    "topicFile = open('topic_file.txt')\n",
    "myContent = topicFile.readlines()\n",
    "topicFile.close()\n",
    "\n",
    "myContent"
   ]
  },
  {
   "cell_type": "markdown",
   "id": "7e6374f6",
   "metadata": {},
   "source": [
    "###application###"
   ]
  },
  {
   "cell_type": "code",
   "execution_count": 39,
   "id": "78f3e30f",
   "metadata": {},
   "outputs": [
    {
     "data": {
      "text/plain": [
       "'D:\\\\project\\\\algorithm\\\\ph202209B2LpytA\\\\source_files'"
      ]
     },
     "execution_count": 39,
     "metadata": {},
     "output_type": "execute_result"
    }
   ],
   "source": [
    "#set environment\n",
    "myPath = 'D:\\\\project\\\\algorithm\\\\ph202209B2LpytA\\\\source_files\\\\foo.txt'\n",
    "myPath = os.path.dirname(myPath)\n",
    "\n",
    "os.chdir(myPath)\n",
    "os.getcwd()"
   ]
  },
  {
   "cell_type": "code",
   "execution_count": 40,
   "id": "67448209",
   "metadata": {},
   "outputs": [
    {
     "name": "stdout",
     "output_type": "stream",
     "text": [
      "Ira\n",
      "\n",
      "Diana\n",
      "\n",
      "Val\n",
      "\n",
      "Omar\n"
     ]
    }
   ],
   "source": [
    "#diplay liste.txt file content\n",
    "studentList = open('liste.txt', 'r')\n",
    "myContent = studentList.readlines()\n",
    "studentList.close()\n",
    "\n",
    "for name in myContent:\n",
    "    print(name)"
   ]
  },
  {
   "cell_type": "code",
   "execution_count": 41,
   "id": "668aa77b",
   "metadata": {},
   "outputs": [],
   "source": [
    "#add an id for each student in studentList\n",
    "studentId = open('listId.txt', 'x')\n",
    "\n",
    "i = 1\n",
    "for name in myContent:\n",
    "    studentId.write(\"id\" + str(i) + \" \" + name + \"\\n\")\n",
    "    i += 1"
   ]
  },
  {
   "cell_type": "code",
   "execution_count": 42,
   "id": "9201a430",
   "metadata": {},
   "outputs": [
    {
     "name": "stdout",
     "output_type": "stream",
     "text": [
      "id1 Ira\n",
      "\n",
      "\n",
      "\n",
      "id2 Diana\n",
      "\n",
      "\n",
      "\n",
      "id3 Val\n",
      "\n",
      "\n",
      "\n",
      "id4 Omar\n",
      "\n"
     ]
    }
   ],
   "source": [
    "#diplay listId.txt file content\n",
    "studentId = open('listId.txt', 'r')\n",
    "myContent = studentId.readlines()\n",
    "studentId.close()\n",
    "\n",
    "for myline in myContent:\n",
    "    print(myline)"
   ]
  }
 ],
 "metadata": {
  "kernelspec": {
   "display_name": "Python 3 (ipykernel)",
   "language": "python",
   "name": "python3"
  },
  "language_info": {
   "codemirror_mode": {
    "name": "ipython",
    "version": 3
   },
   "file_extension": ".py",
   "mimetype": "text/x-python",
   "name": "python",
   "nbconvert_exporter": "python",
   "pygments_lexer": "ipython3",
   "version": "3.9.12"
  }
 },
 "nbformat": 4,
 "nbformat_minor": 5
}
